{
  "nbformat": 4,
  "nbformat_minor": 0,
  "metadata": {
    "colab": {
      "name": "Churn Modeling with ANN.ipynb",
      "provenance": [],
      "authorship_tag": "ABX9TyPRuq2DhvfmpsnTlVzA8bCY",
      "include_colab_link": true
    },
    "kernelspec": {
      "name": "python3",
      "display_name": "Python 3"
    }
  },
  "cells": [
    {
      "cell_type": "markdown",
      "metadata": {
        "id": "view-in-github",
        "colab_type": "text"
      },
      "source": [
        "<a href=\"https://colab.research.google.com/github/ajaykumar6666/Churn-Modeling-with-ANN/blob/master/Churn_Modeling_with_ANN%20-%20HyperParameterTuning.ipynb\" target=\"_parent\"><img src=\"https://colab.research.google.com/assets/colab-badge.svg\" alt=\"Open In Colab\"/></a>"
      ]
    },
    {
      "cell_type": "code",
      "metadata": {
        "id": "4dcD2GzreDr-",
        "colab_type": "code",
        "colab": {}
      },
      "source": [
        "import keras"
      ],
      "execution_count": 1,
      "outputs": []
    },
    {
      "cell_type": "code",
      "metadata": {
        "id": "p6bgfMpzuZNy",
        "colab_type": "code",
        "colab": {}
      },
      "source": [
        "import tensorflow as tf\n",
        "import pandas as pd\n",
        "import numpy as np\n",
        "import matplotlib.pyplot as plt"
      ],
      "execution_count": 2,
      "outputs": []
    },
    {
      "cell_type": "code",
      "metadata": {
        "id": "Va4_1Zr4ucHz",
        "colab_type": "code",
        "colab": {}
      },
      "source": [
        "df=pd.read_csv('/content/datasets_13214_17927_Churn_Modelling.csv')"
      ],
      "execution_count": 3,
      "outputs": []
    },
    {
      "cell_type": "code",
      "metadata": {
        "id": "LjtKVkOTupXs",
        "colab_type": "code",
        "colab": {
          "base_uri": "https://localhost:8080/",
          "height": 70
        },
        "outputId": "ddc63f6c-723d-4cfa-d505-1955c1cfb824"
      },
      "source": [
        "df['Exited'].value_counts()"
      ],
      "execution_count": 4,
      "outputs": [
        {
          "output_type": "execute_result",
          "data": {
            "text/plain": [
              "0    7963\n",
              "1    2037\n",
              "Name: Exited, dtype: int64"
            ]
          },
          "metadata": {
            "tags": []
          },
          "execution_count": 4
        }
      ]
    },
    {
      "cell_type": "code",
      "metadata": {
        "id": "FWXQyO1FupoM",
        "colab_type": "code",
        "colab": {}
      },
      "source": [
        "geography=pd.get_dummies(df['Geography'],drop_first=True)\n",
        "gender=pd.get_dummies(df['Gender'],drop_first=True)"
      ],
      "execution_count": 5,
      "outputs": []
    },
    {
      "cell_type": "code",
      "metadata": {
        "id": "kOsr3C_yvipm",
        "colab_type": "code",
        "colab": {
          "base_uri": "https://localhost:8080/",
          "height": 402
        },
        "outputId": "d6f28c97-7796-4feb-e76d-d38821ddfb07"
      },
      "source": [
        "gender"
      ],
      "execution_count": 14,
      "outputs": [
        {
          "output_type": "execute_result",
          "data": {
            "text/html": [
              "<div>\n",
              "<style scoped>\n",
              "    .dataframe tbody tr th:only-of-type {\n",
              "        vertical-align: middle;\n",
              "    }\n",
              "\n",
              "    .dataframe tbody tr th {\n",
              "        vertical-align: top;\n",
              "    }\n",
              "\n",
              "    .dataframe thead th {\n",
              "        text-align: right;\n",
              "    }\n",
              "</style>\n",
              "<table border=\"1\" class=\"dataframe\">\n",
              "  <thead>\n",
              "    <tr style=\"text-align: right;\">\n",
              "      <th></th>\n",
              "      <th>Male</th>\n",
              "    </tr>\n",
              "  </thead>\n",
              "  <tbody>\n",
              "    <tr>\n",
              "      <th>0</th>\n",
              "      <td>0</td>\n",
              "    </tr>\n",
              "    <tr>\n",
              "      <th>1</th>\n",
              "      <td>0</td>\n",
              "    </tr>\n",
              "    <tr>\n",
              "      <th>2</th>\n",
              "      <td>0</td>\n",
              "    </tr>\n",
              "    <tr>\n",
              "      <th>3</th>\n",
              "      <td>0</td>\n",
              "    </tr>\n",
              "    <tr>\n",
              "      <th>4</th>\n",
              "      <td>0</td>\n",
              "    </tr>\n",
              "    <tr>\n",
              "      <th>...</th>\n",
              "      <td>...</td>\n",
              "    </tr>\n",
              "    <tr>\n",
              "      <th>9995</th>\n",
              "      <td>1</td>\n",
              "    </tr>\n",
              "    <tr>\n",
              "      <th>9996</th>\n",
              "      <td>1</td>\n",
              "    </tr>\n",
              "    <tr>\n",
              "      <th>9997</th>\n",
              "      <td>0</td>\n",
              "    </tr>\n",
              "    <tr>\n",
              "      <th>9998</th>\n",
              "      <td>1</td>\n",
              "    </tr>\n",
              "    <tr>\n",
              "      <th>9999</th>\n",
              "      <td>0</td>\n",
              "    </tr>\n",
              "  </tbody>\n",
              "</table>\n",
              "<p>10000 rows × 1 columns</p>\n",
              "</div>"
            ],
            "text/plain": [
              "      Male\n",
              "0        0\n",
              "1        0\n",
              "2        0\n",
              "3        0\n",
              "4        0\n",
              "...    ...\n",
              "9995     1\n",
              "9996     1\n",
              "9997     0\n",
              "9998     1\n",
              "9999     0\n",
              "\n",
              "[10000 rows x 1 columns]"
            ]
          },
          "metadata": {
            "tags": []
          },
          "execution_count": 14
        }
      ]
    },
    {
      "cell_type": "code",
      "metadata": {
        "id": "tAQnY_CNv0sd",
        "colab_type": "code",
        "colab": {}
      },
      "source": [
        "df.drop(columns=['Geography','Gender','Surname'],inplace=True)"
      ],
      "execution_count": 6,
      "outputs": []
    },
    {
      "cell_type": "code",
      "metadata": {
        "id": "-OCzgy0zwEsJ",
        "colab_type": "code",
        "colab": {}
      },
      "source": [
        "df=pd.concat([df,geography,gender],axis=1)"
      ],
      "execution_count": 7,
      "outputs": []
    },
    {
      "cell_type": "code",
      "metadata": {
        "id": "JK7Mi74LwLWk",
        "colab_type": "code",
        "colab": {}
      },
      "source": [
        "from sklearn.model_selection import train_test_split"
      ],
      "execution_count": 8,
      "outputs": []
    },
    {
      "cell_type": "code",
      "metadata": {
        "id": "MVtfTrMPwXzT",
        "colab_type": "code",
        "colab": {
          "base_uri": "https://localhost:8080/",
          "height": 87
        },
        "outputId": "6e473209-10d1-44c6-87ab-c34191332a80"
      },
      "source": [
        "df.columns"
      ],
      "execution_count": 9,
      "outputs": [
        {
          "output_type": "execute_result",
          "data": {
            "text/plain": [
              "Index(['RowNumber', 'CustomerId', 'CreditScore', 'Age', 'Tenure', 'Balance',\n",
              "       'NumOfProducts', 'HasCrCard', 'IsActiveMember', 'EstimatedSalary',\n",
              "       'Exited', 'Germany', 'Spain', 'Male'],\n",
              "      dtype='object')"
            ]
          },
          "metadata": {
            "tags": []
          },
          "execution_count": 9
        }
      ]
    },
    {
      "cell_type": "code",
      "metadata": {
        "id": "y2abbW2nwZ8P",
        "colab_type": "code",
        "colab": {}
      },
      "source": [
        "y=df['Exited']"
      ],
      "execution_count": 10,
      "outputs": []
    },
    {
      "cell_type": "code",
      "metadata": {
        "id": "-8XUDbXBwh0i",
        "colab_type": "code",
        "colab": {}
      },
      "source": [
        "X=df.drop(columns='Exited')"
      ],
      "execution_count": 11,
      "outputs": []
    },
    {
      "cell_type": "code",
      "metadata": {
        "id": "LXbLDH1swo9v",
        "colab_type": "code",
        "colab": {
          "base_uri": "https://localhost:8080/",
          "height": 34
        },
        "outputId": "d24d3dbd-5812-4dd9-e75f-e1e79bde6185"
      },
      "source": [
        "X.shape,y.shape"
      ],
      "execution_count": 12,
      "outputs": [
        {
          "output_type": "execute_result",
          "data": {
            "text/plain": [
              "((10000, 13), (10000,))"
            ]
          },
          "metadata": {
            "tags": []
          },
          "execution_count": 12
        }
      ]
    },
    {
      "cell_type": "code",
      "metadata": {
        "id": "7L0EQStWx6Jc",
        "colab_type": "code",
        "colab": {}
      },
      "source": [
        ""
      ],
      "execution_count": 12,
      "outputs": []
    },
    {
      "cell_type": "code",
      "metadata": {
        "id": "NgzUJJNuwpoI",
        "colab_type": "code",
        "colab": {}
      },
      "source": [
        "X_train,X_test,y_train,y_test=train_test_split(X,y,test_size=0.2,random_state=1)"
      ],
      "execution_count": 13,
      "outputs": []
    },
    {
      "cell_type": "code",
      "metadata": {
        "id": "b8uKZiMjw0De",
        "colab_type": "code",
        "colab": {
          "base_uri": "https://localhost:8080/",
          "height": 492
        },
        "outputId": "0c0a7713-4f71-4b78-c767-ceadff79e8b5"
      },
      "source": [
        "X_train.mean(),X_test.mean(),y_train.mean(),y_test.mean()"
      ],
      "execution_count": 31,
      "outputs": [
        {
          "output_type": "execute_result",
          "data": {
            "text/plain": [
              "(RowNumber          5.018444e+03\n",
              " CustomerId         1.569121e+07\n",
              " CreditScore        6.503136e+02\n",
              " Age                3.888725e+01\n",
              " Tenure             5.025000e+00\n",
              " Balance            7.646344e+04\n",
              " NumOfProducts      1.531875e+00\n",
              " HasCrCard          7.070000e-01\n",
              " IsActiveMember     5.115000e-01\n",
              " EstimatedSalary    1.001434e+05\n",
              " Germany            2.537500e-01\n",
              " Spain              2.470000e-01\n",
              " Male               5.442500e-01\n",
              " dtype: float64, RowNumber          4.928726e+03\n",
              " CustomerId         1.568985e+07\n",
              " CreditScore        6.513895e+02\n",
              " Age                3.906000e+01\n",
              " Tenure             4.964000e+00\n",
              " Balance            7.657567e+04\n",
              " NumOfProducts      1.523500e+00\n",
              " HasCrCard          6.995000e-01\n",
              " IsActiveMember     5.295000e-01\n",
              " EstimatedSalary    9.987748e+04\n",
              " Germany            2.395000e-01\n",
              " Spain              2.505000e-01\n",
              " Male               5.515000e-01\n",
              " dtype: float64, 0.20275, 0.2075)"
            ]
          },
          "metadata": {
            "tags": []
          },
          "execution_count": 31
        }
      ]
    },
    {
      "cell_type": "code",
      "metadata": {
        "id": "yEquO5q-w471",
        "colab_type": "code",
        "colab": {}
      },
      "source": [
        "from sklearn.preprocessing import StandardScaler"
      ],
      "execution_count": 14,
      "outputs": []
    },
    {
      "cell_type": "code",
      "metadata": {
        "id": "y3F_dAODxQEz",
        "colab_type": "code",
        "colab": {}
      },
      "source": [
        "sc=StandardScaler()"
      ],
      "execution_count": 15,
      "outputs": []
    },
    {
      "cell_type": "code",
      "metadata": {
        "id": "XzyminLlxRGz",
        "colab_type": "code",
        "colab": {}
      },
      "source": [
        "X_train=sc.fit_transform(X_train)\n",
        "X_test=sc.fit_transform(X_test)"
      ],
      "execution_count": 16,
      "outputs": []
    },
    {
      "cell_type": "code",
      "metadata": {
        "id": "bAkI_gVHxtfI",
        "colab_type": "code",
        "colab": {
          "base_uri": "https://localhost:8080/",
          "height": 246
        },
        "outputId": "1bc852e6-5017-4c79-90e5-a1070f50ddad"
      },
      "source": [
        "X_train"
      ],
      "execution_count": 17,
      "outputs": [
        {
          "output_type": "execute_result",
          "data": {
            "text/plain": [
              "array([[-0.80531942,  0.42399976, -0.23082038, ...,  1.71490137,\n",
              "        -0.57273139,  0.91509065],\n",
              "       [ 0.04247882, -1.02496943, -0.25150912, ..., -0.58312392,\n",
              "        -0.57273139, -1.09278791],\n",
              "       [-0.84899177,  1.18230224, -0.3963303 , ...,  1.71490137,\n",
              "        -0.57273139, -1.09278791],\n",
              "       ...,\n",
              "       [-1.42539753, -0.21286544,  0.22433188, ..., -0.58312392,\n",
              "        -0.57273139, -1.09278791],\n",
              "       [ 0.06050233, -1.16325633,  0.13123255, ..., -0.58312392,\n",
              "        -0.57273139, -1.09278791],\n",
              "       [-1.65762353,  1.14029686,  1.1656695 , ...,  1.71490137,\n",
              "        -0.57273139,  0.91509065]])"
            ]
          },
          "metadata": {
            "tags": []
          },
          "execution_count": 17
        }
      ]
    },
    {
      "cell_type": "code",
      "metadata": {
        "id": "ygXHJeeuxwoZ",
        "colab_type": "code",
        "colab": {}
      },
      "source": [
        "from keras.models import Sequential\n",
        "from keras.layers import Dense,Dropout,LeakyReLU,PReLU,ELU"
      ],
      "execution_count": 18,
      "outputs": []
    },
    {
      "cell_type": "code",
      "metadata": {
        "id": "PyNYaoNKyjMs",
        "colab_type": "code",
        "colab": {}
      },
      "source": [
        "classifier=Sequential()"
      ],
      "execution_count": 19,
      "outputs": []
    },
    {
      "cell_type": "code",
      "metadata": {
        "id": "Zhe5IJIAymO8",
        "colab_type": "code",
        "colab": {
          "base_uri": "https://localhost:8080/",
          "height": 34
        },
        "outputId": "b8755589-87ca-42b6-96da-29906285b5f1"
      },
      "source": [
        "X_train.shape"
      ],
      "execution_count": 20,
      "outputs": [
        {
          "output_type": "execute_result",
          "data": {
            "text/plain": [
              "(8000, 13)"
            ]
          },
          "metadata": {
            "tags": []
          },
          "execution_count": 20
        }
      ]
    },
    {
      "cell_type": "code",
      "metadata": {
        "id": "7olu0WH7ysRV",
        "colab_type": "code",
        "colab": {}
      },
      "source": [
        "classifier.add(Dense(input_dim=13,kernel_initializer='he_uniform',units=7,activation='relu'))\n",
        "classifier.add(Dropout(0.3))\n",
        "classifier.add(Dense(kernel_initializer='he_uniform',units=7,activation='relu'))\n",
        "classifier.add(Dropout(0.2))\n",
        "classifier.add(Dense(kernel_initializer='glorot_uniform',units=1,activation='sigmoid'))"
      ],
      "execution_count": 48,
      "outputs": []
    },
    {
      "cell_type": "code",
      "metadata": {
        "id": "boj4kS762G0P",
        "colab_type": "code",
        "colab": {}
      },
      "source": [
        "classifier.compile(optimizer='adam',loss='binary_crossentropy',metrics=['accuracy'])"
      ],
      "execution_count": 49,
      "outputs": []
    },
    {
      "cell_type": "code",
      "metadata": {
        "id": "lwMJGjnp2gSf",
        "colab_type": "code",
        "colab": {
          "base_uri": "https://localhost:8080/",
          "height": 1000
        },
        "outputId": "3ff20ee4-f42e-4f4e-9ca4-a81499fe1225"
      },
      "source": [
        "model_history=classifier.fit(X_train,y_train,batch_size=10,epochs=100,validation_split=0.33)"
      ],
      "execution_count": 50,
      "outputs": [
        {
          "output_type": "stream",
          "text": [
            "Epoch 1/100\n",
            "536/536 [==============================] - 1s 2ms/step - loss: 0.5718 - accuracy: 0.8141 - val_loss: 0.4442 - val_accuracy: 0.8470\n",
            "Epoch 2/100\n",
            "536/536 [==============================] - 1s 2ms/step - loss: 0.4457 - accuracy: 0.8291 - val_loss: 0.3830 - val_accuracy: 0.8527\n",
            "Epoch 3/100\n",
            "536/536 [==============================] - 1s 2ms/step - loss: 0.4103 - accuracy: 0.8393 - val_loss: 0.3713 - val_accuracy: 0.8561\n",
            "Epoch 4/100\n",
            "536/536 [==============================] - 1s 2ms/step - loss: 0.4045 - accuracy: 0.8425 - val_loss: 0.3634 - val_accuracy: 0.8565\n",
            "Epoch 5/100\n",
            "536/536 [==============================] - 1s 2ms/step - loss: 0.4017 - accuracy: 0.8384 - val_loss: 0.3685 - val_accuracy: 0.8542\n",
            "Epoch 6/100\n",
            "536/536 [==============================] - 1s 2ms/step - loss: 0.3875 - accuracy: 0.8438 - val_loss: 0.3600 - val_accuracy: 0.8576\n",
            "Epoch 7/100\n",
            "536/536 [==============================] - 1s 2ms/step - loss: 0.3861 - accuracy: 0.8429 - val_loss: 0.3585 - val_accuracy: 0.8603\n",
            "Epoch 8/100\n",
            "536/536 [==============================] - 1s 1ms/step - loss: 0.3872 - accuracy: 0.8393 - val_loss: 0.3598 - val_accuracy: 0.8561\n",
            "Epoch 9/100\n",
            "536/536 [==============================] - 1s 1ms/step - loss: 0.3756 - accuracy: 0.8459 - val_loss: 0.3616 - val_accuracy: 0.8557\n",
            "Epoch 10/100\n",
            "536/536 [==============================] - 1s 1ms/step - loss: 0.3790 - accuracy: 0.8475 - val_loss: 0.3590 - val_accuracy: 0.8550\n",
            "Epoch 11/100\n",
            "536/536 [==============================] - 1s 1ms/step - loss: 0.3755 - accuracy: 0.8490 - val_loss: 0.3627 - val_accuracy: 0.8527\n",
            "Epoch 12/100\n",
            "536/536 [==============================] - 1s 1ms/step - loss: 0.3716 - accuracy: 0.8500 - val_loss: 0.3580 - val_accuracy: 0.8523\n",
            "Epoch 13/100\n",
            "536/536 [==============================] - 1s 1ms/step - loss: 0.3705 - accuracy: 0.8518 - val_loss: 0.3581 - val_accuracy: 0.8557\n",
            "Epoch 14/100\n",
            "536/536 [==============================] - 1s 1ms/step - loss: 0.3729 - accuracy: 0.8520 - val_loss: 0.3568 - val_accuracy: 0.8527\n",
            "Epoch 15/100\n",
            "536/536 [==============================] - 1s 1ms/step - loss: 0.3730 - accuracy: 0.8503 - val_loss: 0.3587 - val_accuracy: 0.8542\n",
            "Epoch 16/100\n",
            "536/536 [==============================] - 1s 1ms/step - loss: 0.3645 - accuracy: 0.8584 - val_loss: 0.3550 - val_accuracy: 0.8527\n",
            "Epoch 17/100\n",
            "536/536 [==============================] - 1s 1ms/step - loss: 0.3676 - accuracy: 0.8537 - val_loss: 0.3557 - val_accuracy: 0.8519\n",
            "Epoch 18/100\n",
            "536/536 [==============================] - 1s 1ms/step - loss: 0.3650 - accuracy: 0.8559 - val_loss: 0.3559 - val_accuracy: 0.8531\n",
            "Epoch 19/100\n",
            "536/536 [==============================] - 1s 1ms/step - loss: 0.3645 - accuracy: 0.8535 - val_loss: 0.3553 - val_accuracy: 0.8516\n",
            "Epoch 20/100\n",
            "536/536 [==============================] - 1s 1ms/step - loss: 0.3655 - accuracy: 0.8530 - val_loss: 0.3598 - val_accuracy: 0.8531\n",
            "Epoch 21/100\n",
            "536/536 [==============================] - 1s 1ms/step - loss: 0.3686 - accuracy: 0.8546 - val_loss: 0.3547 - val_accuracy: 0.8531\n",
            "Epoch 22/100\n",
            "536/536 [==============================] - 1s 1ms/step - loss: 0.3604 - accuracy: 0.8584 - val_loss: 0.3535 - val_accuracy: 0.8504\n",
            "Epoch 23/100\n",
            "536/536 [==============================] - 1s 1ms/step - loss: 0.3576 - accuracy: 0.8610 - val_loss: 0.3549 - val_accuracy: 0.8565\n",
            "Epoch 24/100\n",
            "536/536 [==============================] - 1s 1ms/step - loss: 0.3638 - accuracy: 0.8554 - val_loss: 0.3526 - val_accuracy: 0.8557\n",
            "Epoch 25/100\n",
            "536/536 [==============================] - 1s 1ms/step - loss: 0.3641 - accuracy: 0.8582 - val_loss: 0.3526 - val_accuracy: 0.8531\n",
            "Epoch 26/100\n",
            "536/536 [==============================] - 1s 1ms/step - loss: 0.3630 - accuracy: 0.8558 - val_loss: 0.3529 - val_accuracy: 0.8519\n",
            "Epoch 27/100\n",
            "536/536 [==============================] - 1s 1ms/step - loss: 0.3665 - accuracy: 0.8537 - val_loss: 0.3567 - val_accuracy: 0.8527\n",
            "Epoch 28/100\n",
            "536/536 [==============================] - 1s 1ms/step - loss: 0.3625 - accuracy: 0.8578 - val_loss: 0.3543 - val_accuracy: 0.8538\n",
            "Epoch 29/100\n",
            "536/536 [==============================] - 1s 1ms/step - loss: 0.3689 - accuracy: 0.8604 - val_loss: 0.3541 - val_accuracy: 0.8527\n",
            "Epoch 30/100\n",
            "536/536 [==============================] - 1s 1ms/step - loss: 0.3604 - accuracy: 0.8587 - val_loss: 0.3561 - val_accuracy: 0.8493\n",
            "Epoch 31/100\n",
            "536/536 [==============================] - 1s 1ms/step - loss: 0.3627 - accuracy: 0.8552 - val_loss: 0.3540 - val_accuracy: 0.8523\n",
            "Epoch 32/100\n",
            "536/536 [==============================] - 1s 1ms/step - loss: 0.3620 - accuracy: 0.8572 - val_loss: 0.3536 - val_accuracy: 0.8519\n",
            "Epoch 33/100\n",
            "536/536 [==============================] - 1s 1ms/step - loss: 0.3664 - accuracy: 0.8531 - val_loss: 0.3610 - val_accuracy: 0.8535\n",
            "Epoch 34/100\n",
            "536/536 [==============================] - 1s 1ms/step - loss: 0.3625 - accuracy: 0.8576 - val_loss: 0.3585 - val_accuracy: 0.8535\n",
            "Epoch 35/100\n",
            "536/536 [==============================] - 1s 1ms/step - loss: 0.3667 - accuracy: 0.8541 - val_loss: 0.3544 - val_accuracy: 0.8512\n",
            "Epoch 36/100\n",
            "536/536 [==============================] - 1s 1ms/step - loss: 0.3605 - accuracy: 0.8582 - val_loss: 0.3534 - val_accuracy: 0.8550\n",
            "Epoch 37/100\n",
            "536/536 [==============================] - 1s 1ms/step - loss: 0.3646 - accuracy: 0.8515 - val_loss: 0.3548 - val_accuracy: 0.8573\n",
            "Epoch 38/100\n",
            "536/536 [==============================] - 1s 1ms/step - loss: 0.3555 - accuracy: 0.8614 - val_loss: 0.3540 - val_accuracy: 0.8508\n",
            "Epoch 39/100\n",
            "536/536 [==============================] - 1s 1ms/step - loss: 0.3556 - accuracy: 0.8600 - val_loss: 0.3576 - val_accuracy: 0.8546\n",
            "Epoch 40/100\n",
            "536/536 [==============================] - 1s 1ms/step - loss: 0.3611 - accuracy: 0.8567 - val_loss: 0.3589 - val_accuracy: 0.8527\n",
            "Epoch 41/100\n",
            "536/536 [==============================] - 1s 1ms/step - loss: 0.3622 - accuracy: 0.8522 - val_loss: 0.3569 - val_accuracy: 0.8504\n",
            "Epoch 42/100\n",
            "536/536 [==============================] - 1s 1ms/step - loss: 0.3630 - accuracy: 0.8548 - val_loss: 0.3527 - val_accuracy: 0.8538\n",
            "Epoch 43/100\n",
            "536/536 [==============================] - 1s 1ms/step - loss: 0.3622 - accuracy: 0.8565 - val_loss: 0.3582 - val_accuracy: 0.8516\n",
            "Epoch 44/100\n",
            "536/536 [==============================] - 1s 1ms/step - loss: 0.3576 - accuracy: 0.8561 - val_loss: 0.3570 - val_accuracy: 0.8535\n",
            "Epoch 45/100\n",
            "536/536 [==============================] - 1s 1ms/step - loss: 0.3645 - accuracy: 0.8571 - val_loss: 0.3608 - val_accuracy: 0.8523\n",
            "Epoch 46/100\n",
            "536/536 [==============================] - 1s 1ms/step - loss: 0.3592 - accuracy: 0.8578 - val_loss: 0.3522 - val_accuracy: 0.8497\n",
            "Epoch 47/100\n",
            "536/536 [==============================] - 1s 1ms/step - loss: 0.3678 - accuracy: 0.8550 - val_loss: 0.3590 - val_accuracy: 0.8523\n",
            "Epoch 48/100\n",
            "536/536 [==============================] - 1s 1ms/step - loss: 0.3673 - accuracy: 0.8567 - val_loss: 0.3533 - val_accuracy: 0.8516\n",
            "Epoch 49/100\n",
            "536/536 [==============================] - 1s 1ms/step - loss: 0.3560 - accuracy: 0.8569 - val_loss: 0.3525 - val_accuracy: 0.8519\n",
            "Epoch 50/100\n",
            "536/536 [==============================] - 1s 1ms/step - loss: 0.3611 - accuracy: 0.8552 - val_loss: 0.3517 - val_accuracy: 0.8512\n",
            "Epoch 51/100\n",
            "536/536 [==============================] - 1s 1ms/step - loss: 0.3588 - accuracy: 0.8593 - val_loss: 0.3578 - val_accuracy: 0.8527\n",
            "Epoch 52/100\n",
            "536/536 [==============================] - 1s 1ms/step - loss: 0.3556 - accuracy: 0.8574 - val_loss: 0.3598 - val_accuracy: 0.8497\n",
            "Epoch 53/100\n",
            "536/536 [==============================] - 1s 1ms/step - loss: 0.3583 - accuracy: 0.8571 - val_loss: 0.3549 - val_accuracy: 0.8546\n",
            "Epoch 54/100\n",
            "536/536 [==============================] - 1s 1ms/step - loss: 0.3587 - accuracy: 0.8614 - val_loss: 0.3574 - val_accuracy: 0.8538\n",
            "Epoch 55/100\n",
            "536/536 [==============================] - 1s 1ms/step - loss: 0.3609 - accuracy: 0.8546 - val_loss: 0.3543 - val_accuracy: 0.8497\n",
            "Epoch 56/100\n",
            "536/536 [==============================] - 1s 1ms/step - loss: 0.3589 - accuracy: 0.8546 - val_loss: 0.3546 - val_accuracy: 0.8527\n",
            "Epoch 57/100\n",
            "536/536 [==============================] - 1s 1ms/step - loss: 0.3646 - accuracy: 0.8539 - val_loss: 0.3555 - val_accuracy: 0.8523\n",
            "Epoch 58/100\n",
            "536/536 [==============================] - 1s 1ms/step - loss: 0.3606 - accuracy: 0.8569 - val_loss: 0.3566 - val_accuracy: 0.8538\n",
            "Epoch 59/100\n",
            "536/536 [==============================] - 1s 1ms/step - loss: 0.3592 - accuracy: 0.8569 - val_loss: 0.3552 - val_accuracy: 0.8531\n",
            "Epoch 60/100\n",
            "536/536 [==============================] - 1s 1ms/step - loss: 0.3552 - accuracy: 0.8578 - val_loss: 0.3561 - val_accuracy: 0.8516\n",
            "Epoch 61/100\n",
            "536/536 [==============================] - 1s 1ms/step - loss: 0.3604 - accuracy: 0.8552 - val_loss: 0.3556 - val_accuracy: 0.8527\n",
            "Epoch 62/100\n",
            "536/536 [==============================] - 1s 1ms/step - loss: 0.3595 - accuracy: 0.8578 - val_loss: 0.3547 - val_accuracy: 0.8531\n",
            "Epoch 63/100\n",
            "536/536 [==============================] - 1s 1ms/step - loss: 0.3582 - accuracy: 0.8561 - val_loss: 0.3581 - val_accuracy: 0.8550\n",
            "Epoch 64/100\n",
            "536/536 [==============================] - 1s 1ms/step - loss: 0.3602 - accuracy: 0.8539 - val_loss: 0.3558 - val_accuracy: 0.8516\n",
            "Epoch 65/100\n",
            "536/536 [==============================] - 1s 1ms/step - loss: 0.3642 - accuracy: 0.8526 - val_loss: 0.3549 - val_accuracy: 0.8538\n",
            "Epoch 66/100\n",
            "536/536 [==============================] - 1s 1ms/step - loss: 0.3623 - accuracy: 0.8571 - val_loss: 0.3559 - val_accuracy: 0.8531\n",
            "Epoch 67/100\n",
            "536/536 [==============================] - 1s 1ms/step - loss: 0.3562 - accuracy: 0.8604 - val_loss: 0.3537 - val_accuracy: 0.8573\n",
            "Epoch 68/100\n",
            "536/536 [==============================] - 1s 1ms/step - loss: 0.3552 - accuracy: 0.8614 - val_loss: 0.3573 - val_accuracy: 0.8542\n",
            "Epoch 69/100\n",
            "536/536 [==============================] - 1s 1ms/step - loss: 0.3585 - accuracy: 0.8558 - val_loss: 0.3568 - val_accuracy: 0.8561\n",
            "Epoch 70/100\n",
            "536/536 [==============================] - 1s 1ms/step - loss: 0.3530 - accuracy: 0.8580 - val_loss: 0.3549 - val_accuracy: 0.8516\n",
            "Epoch 71/100\n",
            "536/536 [==============================] - 1s 1ms/step - loss: 0.3621 - accuracy: 0.8554 - val_loss: 0.3575 - val_accuracy: 0.8489\n",
            "Epoch 72/100\n",
            "536/536 [==============================] - 1s 1ms/step - loss: 0.3582 - accuracy: 0.8546 - val_loss: 0.3563 - val_accuracy: 0.8519\n",
            "Epoch 73/100\n",
            "536/536 [==============================] - 1s 1ms/step - loss: 0.3536 - accuracy: 0.8569 - val_loss: 0.3578 - val_accuracy: 0.8512\n",
            "Epoch 74/100\n",
            "536/536 [==============================] - 1s 1ms/step - loss: 0.3617 - accuracy: 0.8541 - val_loss: 0.3552 - val_accuracy: 0.8542\n",
            "Epoch 75/100\n",
            "536/536 [==============================] - 1s 1ms/step - loss: 0.3524 - accuracy: 0.8595 - val_loss: 0.3592 - val_accuracy: 0.8576\n",
            "Epoch 76/100\n",
            "536/536 [==============================] - 1s 1ms/step - loss: 0.3535 - accuracy: 0.8627 - val_loss: 0.3566 - val_accuracy: 0.8523\n",
            "Epoch 77/100\n",
            "536/536 [==============================] - 1s 1ms/step - loss: 0.3591 - accuracy: 0.8572 - val_loss: 0.3574 - val_accuracy: 0.8527\n",
            "Epoch 78/100\n",
            "536/536 [==============================] - 1s 1ms/step - loss: 0.3564 - accuracy: 0.8576 - val_loss: 0.3540 - val_accuracy: 0.8550\n",
            "Epoch 79/100\n",
            "536/536 [==============================] - 1s 1ms/step - loss: 0.3541 - accuracy: 0.8619 - val_loss: 0.3545 - val_accuracy: 0.8535\n",
            "Epoch 80/100\n",
            "536/536 [==============================] - 1s 1ms/step - loss: 0.3541 - accuracy: 0.8580 - val_loss: 0.3534 - val_accuracy: 0.8550\n",
            "Epoch 81/100\n",
            "536/536 [==============================] - 1s 1ms/step - loss: 0.3493 - accuracy: 0.8608 - val_loss: 0.3597 - val_accuracy: 0.8542\n",
            "Epoch 82/100\n",
            "536/536 [==============================] - 1s 1ms/step - loss: 0.3571 - accuracy: 0.8580 - val_loss: 0.3545 - val_accuracy: 0.8538\n",
            "Epoch 83/100\n",
            "536/536 [==============================] - 1s 1ms/step - loss: 0.3529 - accuracy: 0.8572 - val_loss: 0.3582 - val_accuracy: 0.8516\n",
            "Epoch 84/100\n",
            "536/536 [==============================] - 1s 1ms/step - loss: 0.3560 - accuracy: 0.8574 - val_loss: 0.3564 - val_accuracy: 0.8527\n",
            "Epoch 85/100\n",
            "536/536 [==============================] - 1s 1ms/step - loss: 0.3527 - accuracy: 0.8576 - val_loss: 0.3546 - val_accuracy: 0.8538\n",
            "Epoch 86/100\n",
            "536/536 [==============================] - 1s 1ms/step - loss: 0.3540 - accuracy: 0.8586 - val_loss: 0.3553 - val_accuracy: 0.8557\n",
            "Epoch 87/100\n",
            "536/536 [==============================] - 1s 1ms/step - loss: 0.3571 - accuracy: 0.8582 - val_loss: 0.3560 - val_accuracy: 0.8535\n",
            "Epoch 88/100\n",
            "536/536 [==============================] - 1s 1ms/step - loss: 0.3544 - accuracy: 0.8580 - val_loss: 0.3536 - val_accuracy: 0.8603\n",
            "Epoch 89/100\n",
            "536/536 [==============================] - 1s 1ms/step - loss: 0.3533 - accuracy: 0.8578 - val_loss: 0.3555 - val_accuracy: 0.8546\n",
            "Epoch 90/100\n",
            "536/536 [==============================] - 1s 1ms/step - loss: 0.3562 - accuracy: 0.8582 - val_loss: 0.3560 - val_accuracy: 0.8535\n",
            "Epoch 91/100\n",
            "536/536 [==============================] - 1s 1ms/step - loss: 0.3618 - accuracy: 0.8520 - val_loss: 0.3528 - val_accuracy: 0.8561\n",
            "Epoch 92/100\n",
            "536/536 [==============================] - 1s 1ms/step - loss: 0.3586 - accuracy: 0.8571 - val_loss: 0.3564 - val_accuracy: 0.8531\n",
            "Epoch 93/100\n",
            "536/536 [==============================] - 1s 1ms/step - loss: 0.3566 - accuracy: 0.8580 - val_loss: 0.3557 - val_accuracy: 0.8554\n",
            "Epoch 94/100\n",
            "536/536 [==============================] - 1s 1ms/step - loss: 0.3581 - accuracy: 0.8518 - val_loss: 0.3582 - val_accuracy: 0.8523\n",
            "Epoch 95/100\n",
            "536/536 [==============================] - 1s 1ms/step - loss: 0.3553 - accuracy: 0.8574 - val_loss: 0.3568 - val_accuracy: 0.8531\n",
            "Epoch 96/100\n",
            "536/536 [==============================] - 1s 1ms/step - loss: 0.3580 - accuracy: 0.8552 - val_loss: 0.3601 - val_accuracy: 0.8542\n",
            "Epoch 97/100\n",
            "536/536 [==============================] - 1s 1ms/step - loss: 0.3532 - accuracy: 0.8600 - val_loss: 0.3538 - val_accuracy: 0.8531\n",
            "Epoch 98/100\n",
            "536/536 [==============================] - 1s 1ms/step - loss: 0.3557 - accuracy: 0.8572 - val_loss: 0.3567 - val_accuracy: 0.8546\n",
            "Epoch 99/100\n",
            "536/536 [==============================] - 1s 1ms/step - loss: 0.3579 - accuracy: 0.8569 - val_loss: 0.3510 - val_accuracy: 0.8535\n",
            "Epoch 100/100\n",
            "536/536 [==============================] - 1s 1ms/step - loss: 0.3551 - accuracy: 0.8567 - val_loss: 0.3532 - val_accuracy: 0.8531\n"
          ],
          "name": "stdout"
        }
      ]
    },
    {
      "cell_type": "code",
      "metadata": {
        "id": "3-d6XUCa5Mq-",
        "colab_type": "code",
        "colab": {
          "base_uri": "https://localhost:8080/",
          "height": 34
        },
        "outputId": "edb37402-e0ed-438a-b012-e6a69064dc69"
      },
      "source": [
        "model_history.history.keys()"
      ],
      "execution_count": 51,
      "outputs": [
        {
          "output_type": "execute_result",
          "data": {
            "text/plain": [
              "dict_keys(['loss', 'accuracy', 'val_loss', 'val_accuracy'])"
            ]
          },
          "metadata": {
            "tags": []
          },
          "execution_count": 51
        }
      ]
    },
    {
      "cell_type": "code",
      "metadata": {
        "id": "mJmjd3aR7Jsc",
        "colab_type": "code",
        "colab": {}
      },
      "source": [
        "normal_accuracy=model_history.history['accuracy']\n",
        "val_accuracy=model_history.history['val_accuracy']"
      ],
      "execution_count": 52,
      "outputs": []
    },
    {
      "cell_type": "code",
      "metadata": {
        "id": "PdmrUXw775jo",
        "colab_type": "code",
        "colab": {
          "base_uri": "https://localhost:8080/",
          "height": 282
        },
        "outputId": "caba3a1a-17e3-4f31-975e-8c086cf34b66"
      },
      "source": [
        "plt.plot(normal_accuracy,'*-',val_accuracy,'o-')\n",
        "plt.legend(['Train','Valid'])"
      ],
      "execution_count": 53,
      "outputs": [
        {
          "output_type": "execute_result",
          "data": {
            "text/plain": [
              "<matplotlib.legend.Legend at 0x7f4a65688898>"
            ]
          },
          "metadata": {
            "tags": []
          },
          "execution_count": 53
        },
        {
          "output_type": "display_data",
          "data": {
            "image/png": "[encoded data removed]",
            "text/plain": [
              "<Figure size 432x288 with 1 Axes>"
            ]
          },
          "metadata": {
            "tags": [],
            "needs_background": "light"
          }
        }
      ]
    },
    {
      "cell_type": "code",
      "metadata": {
        "id": "kP-GZtPF8Hu2",
        "colab_type": "code",
        "colab": {}
      },
      "source": [
        "y_pred=classifier.predict(X_test)\n",
        "y_pred=(y_pred>=0.5)"
      ],
      "execution_count": 54,
      "outputs": []
    },
    {
      "cell_type": "code",
      "metadata": {
        "id": "TCs3QeWw8pbI",
        "colab_type": "code",
        "colab": {}
      },
      "source": [
        "from sklearn.metrics import confusion_matrix,accuracy_score"
      ],
      "execution_count": 45,
      "outputs": []
    },
    {
      "cell_type": "code",
      "metadata": {
        "id": "Qxs4gaay853m",
        "colab_type": "code",
        "colab": {
          "base_uri": "https://localhost:8080/",
          "height": 52
        },
        "outputId": "bf87b4a1-8d17-4882-fbf9-1ba121d25c9c"
      },
      "source": [
        "confusion_matrix(y_test,y_pred)"
      ],
      "execution_count": 55,
      "outputs": [
        {
          "output_type": "execute_result",
          "data": {
            "text/plain": [
              "array([[1531,   54],\n",
              "       [ 251,  164]])"
            ]
          },
          "metadata": {
            "tags": []
          },
          "execution_count": 55
        }
      ]
    },
    {
      "cell_type": "code",
      "metadata": {
        "id": "6-kR1B2889Pm",
        "colab_type": "code",
        "colab": {
          "base_uri": "https://localhost:8080/",
          "height": 34
        },
        "outputId": "07dae5e0-b5c9-479d-a0b9-994755a05dd8"
      },
      "source": [
        "accuracy_score(y_pred,y_test)"
      ],
      "execution_count": 56,
      "outputs": [
        {
          "output_type": "execute_result",
          "data": {
            "text/plain": [
              "0.8475"
            ]
          },
          "metadata": {
            "tags": []
          },
          "execution_count": 56
        }
      ]
    },
    {
      "cell_type": "code",
      "metadata": {
        "id": "Q9Fiw8Pw9BAX",
        "colab_type": "code",
        "colab": {}
      },
      "source": [
        ""
      ],
      "execution_count": null,
      "outputs": []
    },
    {
      "cell_type": "markdown",
      "metadata": {
        "id": "P1bDugSoDech",
        "colab_type": "text"
      },
      "source": [
        "# **Hyper Parameter Tuning**"
      ]
    },
    {
      "cell_type": "code",
      "metadata": {
        "id": "xlJ9uGWPDicD",
        "colab_type": "code",
        "colab": {}
      },
      "source": [
        "layers=[(20),(40,20),(45,30,15)]\n",
        "activations=['sigmoid','relu']"
      ],
      "execution_count": 82,
      "outputs": []
    },
    {
      "cell_type": "code",
      "metadata": {
        "id": "DzgIsXGDEww0",
        "colab_type": "code",
        "colab": {
          "base_uri": "https://localhost:8080/",
          "height": 87
        },
        "outputId": "ba361df3-c05e-4d0e-9374-7299581e2db6"
      },
      "source": [
        "param_grid=dict(layers=layers,activation=activations,batch_size=[128,256],epochs=[30])\n",
        "param_grid"
      ],
      "execution_count": 83,
      "outputs": [
        {
          "output_type": "execute_result",
          "data": {
            "text/plain": [
              "{'activation': ['sigmoid', 'relu'],\n",
              " 'batch_size': [128, 256],\n",
              " 'epochs': [30],\n",
              " 'layers': [20, (40, 20), (45, 30, 15)]}"
            ]
          },
          "metadata": {
            "tags": []
          },
          "execution_count": 83
        }
      ]
    },
    {
      "cell_type": "code",
      "metadata": {
        "id": "WEPlws2iE1kU",
        "colab_type": "code",
        "colab": {}
      },
      "source": [
        "from sklearn.model_selection import GridSearchCV\n",
        "from keras.wrappers.scikit_learn import KerasClassifier\n",
        "from keras.layers import Activation"
      ],
      "execution_count": 84,
      "outputs": []
    },
    {
      "cell_type": "code",
      "metadata": {
        "id": "usofeW0yE89R",
        "colab_type": "code",
        "colab": {}
      },
      "source": [
        "def create_model(layers,activation):\n",
        "  model=Sequential()\n",
        "  for i,nodes in enumerate(layers):\n",
        "    if(i==0):\n",
        "      model.add(Dense(nodes,input_dim=X_train.shape[1]))\n",
        "      model.add(Activation(activation))\n",
        "      model.add(Dropout(0.3))\n",
        "    else:\n",
        "      model.add(Dense(nodes))\n",
        "      model.add(Activation(activation))\n",
        "      model.add(Dropout(0.3))\n",
        "  model.add(Dense(kernel_initializer='glorot_uniform',units=1,activation='sigmoid'))\n",
        "  model.compile(optimizer='adam',loss='binary_crossentropy',metrics=['accuracy'])\n",
        "  return model"
      ],
      "execution_count": 85,
      "outputs": []
    },
    {
      "cell_type": "code",
      "metadata": {
        "id": "CQOU7zpfFE8k",
        "colab_type": "code",
        "colab": {}
      },
      "source": [
        "model=KerasClassifier(create_model,verbose=0)"
      ],
      "execution_count": 86,
      "outputs": []
    },
    {
      "cell_type": "code",
      "metadata": {
        "id": "yWCabAzGLIQ8",
        "colab_type": "code",
        "colab": {}
      },
      "source": [
        "grid=GridSearchCV(model,param_grid=param_grid,cv=5)"
      ],
      "execution_count": 87,
      "outputs": []
    },
    {
      "cell_type": "code",
      "metadata": {
        "id": "Wfot_LaHLUZT",
        "colab_type": "code",
        "colab": {
          "base_uri": "https://localhost:8080/",
          "height": 107
        },
        "outputId": "d8977690-c335-4c3f-ec6f-e6e1f1d853fa"
      },
      "source": [
        "g=grid.fit(X_train,y_train)"
      ],
      "execution_count": 89,
      "outputs": [
        {
          "output_type": "stream",
          "text": [
            "/usr/local/lib/python3.6/dist-packages/sklearn/model_selection/_validation.py:536: FitFailedWarning: Estimator fit failed. The score on this train-test partition for these parameters will be set to nan. Details: \n",
            "TypeError: 'int' object is not iterable\n",
            "\n",
            "  FitFailedWarning)\n"
          ],
          "name": "stderr"
        }
      ]
    },
    {
      "cell_type": "code",
      "metadata": {
        "id": "uryWg8XOLqXR",
        "colab_type": "code",
        "colab": {
          "base_uri": "https://localhost:8080/",
          "height": 52
        },
        "outputId": "b0ea2ea2-afcb-44d8-a90e-654bf86256fc"
      },
      "source": [
        "g.best_score_,g.best_params_"
      ],
      "execution_count": 90,
      "outputs": [
        {
          "output_type": "execute_result",
          "data": {
            "text/plain": [
              "(0.8568749904632569,\n",
              " {'activation': 'relu', 'batch_size': 128, 'epochs': 30, 'layers': (40, 20)})"
            ]
          },
          "metadata": {
            "tags": []
          },
          "execution_count": 90
        }
      ]
    },
    {
      "cell_type": "code",
      "metadata": {
        "id": "HdwBD-AtNheu",
        "colab_type": "code",
        "colab": {}
      },
      "source": [
        "classifier=Sequential()"
      ],
      "execution_count": 91,
      "outputs": []
    },
    {
      "cell_type": "code",
      "metadata": {
        "id": "lpA1FmzMNvVV",
        "colab_type": "code",
        "colab": {}
      },
      "source": [
        "classifier.add(Dense(input_dim=13,kernel_initializer='he_uniform',units=40,activation='relu'))\n",
        "classifier.add(Dropout(0.3))\n",
        "classifier.add(Dense(kernel_initializer='he_uniform',units=20,activation='relu'))\n",
        "classifier.add(Dropout(0.2))\n",
        "classifier.add(Dense(kernel_initializer='glorot_uniform',units=1,activation='sigmoid'))"
      ],
      "execution_count": 92,
      "outputs": []
    },
    {
      "cell_type": "code",
      "metadata": {
        "id": "G8IHie6YN1ao",
        "colab_type": "code",
        "colab": {}
      },
      "source": [
        "classifier.compile(optimizer='adam',loss='binary_crossentropy',metrics=['accuracy'])"
      ],
      "execution_count": 93,
      "outputs": []
    },
    {
      "cell_type": "code",
      "metadata": {
        "id": "BWHjgDjWN5Zs",
        "colab_type": "code",
        "colab": {
          "base_uri": "https://localhost:8080/",
          "height": 1000
        },
        "outputId": "62360b90-7616-4ca1-9f0a-231eb76a08a1"
      },
      "source": [
        "model_history=classifier.fit(X_train,y_train,batch_size=10,epochs=100,validation_split=0.33)"
      ],
      "execution_count": 94,
      "outputs": [
        {
          "output_type": "stream",
          "text": [
            "Epoch 1/100\n",
            "536/536 [==============================] - 1s 2ms/step - loss: 0.5351 - accuracy: 0.7694 - val_loss: 0.4442 - val_accuracy: 0.8141\n",
            "Epoch 2/100\n",
            "536/536 [==============================] - 1s 1ms/step - loss: 0.4831 - accuracy: 0.7925 - val_loss: 0.4333 - val_accuracy: 0.8141\n",
            "Epoch 3/100\n",
            "536/536 [==============================] - 1s 1ms/step - loss: 0.4590 - accuracy: 0.8016 - val_loss: 0.4195 - val_accuracy: 0.8160\n",
            "Epoch 4/100\n",
            "536/536 [==============================] - 1s 1ms/step - loss: 0.4418 - accuracy: 0.8117 - val_loss: 0.4125 - val_accuracy: 0.8281\n",
            "Epoch 5/100\n",
            "536/536 [==============================] - 1s 1ms/step - loss: 0.4362 - accuracy: 0.8199 - val_loss: 0.4091 - val_accuracy: 0.8247\n",
            "Epoch 6/100\n",
            "536/536 [==============================] - 1s 1ms/step - loss: 0.4311 - accuracy: 0.8184 - val_loss: 0.4035 - val_accuracy: 0.8273\n",
            "Epoch 7/100\n",
            "536/536 [==============================] - 1s 1ms/step - loss: 0.4202 - accuracy: 0.8225 - val_loss: 0.3934 - val_accuracy: 0.8266\n",
            "Epoch 8/100\n",
            "536/536 [==============================] - 1s 1ms/step - loss: 0.4097 - accuracy: 0.8276 - val_loss: 0.3853 - val_accuracy: 0.8395\n",
            "Epoch 9/100\n",
            "536/536 [==============================] - 1s 1ms/step - loss: 0.4071 - accuracy: 0.8309 - val_loss: 0.3743 - val_accuracy: 0.8406\n",
            "Epoch 10/100\n",
            "536/536 [==============================] - 1s 1ms/step - loss: 0.3992 - accuracy: 0.8350 - val_loss: 0.3709 - val_accuracy: 0.8455\n",
            "Epoch 11/100\n",
            "536/536 [==============================] - 1s 1ms/step - loss: 0.3924 - accuracy: 0.8378 - val_loss: 0.3645 - val_accuracy: 0.8523\n",
            "Epoch 12/100\n",
            "536/536 [==============================] - 1s 1ms/step - loss: 0.3869 - accuracy: 0.8446 - val_loss: 0.3605 - val_accuracy: 0.8516\n",
            "Epoch 13/100\n",
            "536/536 [==============================] - 1s 1ms/step - loss: 0.3805 - accuracy: 0.8414 - val_loss: 0.3554 - val_accuracy: 0.8519\n",
            "Epoch 14/100\n",
            "536/536 [==============================] - 1s 1ms/step - loss: 0.3776 - accuracy: 0.8431 - val_loss: 0.3586 - val_accuracy: 0.8516\n",
            "Epoch 15/100\n",
            "536/536 [==============================] - 1s 1ms/step - loss: 0.3768 - accuracy: 0.8490 - val_loss: 0.3536 - val_accuracy: 0.8554\n",
            "Epoch 16/100\n",
            "536/536 [==============================] - 1s 1ms/step - loss: 0.3751 - accuracy: 0.8464 - val_loss: 0.3540 - val_accuracy: 0.8550\n",
            "Epoch 17/100\n",
            "536/536 [==============================] - 1s 1ms/step - loss: 0.3706 - accuracy: 0.8498 - val_loss: 0.3484 - val_accuracy: 0.8561\n",
            "Epoch 18/100\n",
            "536/536 [==============================] - 1s 1ms/step - loss: 0.3716 - accuracy: 0.8485 - val_loss: 0.3477 - val_accuracy: 0.8538\n",
            "Epoch 19/100\n",
            "536/536 [==============================] - 1s 1ms/step - loss: 0.3689 - accuracy: 0.8483 - val_loss: 0.3472 - val_accuracy: 0.8538\n",
            "Epoch 20/100\n",
            "536/536 [==============================] - 1s 1ms/step - loss: 0.3649 - accuracy: 0.8503 - val_loss: 0.3493 - val_accuracy: 0.8542\n",
            "Epoch 21/100\n",
            "536/536 [==============================] - 1s 1ms/step - loss: 0.3613 - accuracy: 0.8520 - val_loss: 0.3450 - val_accuracy: 0.8561\n",
            "Epoch 22/100\n",
            "536/536 [==============================] - 1s 1ms/step - loss: 0.3572 - accuracy: 0.8556 - val_loss: 0.3479 - val_accuracy: 0.8523\n",
            "Epoch 23/100\n",
            "536/536 [==============================] - 1s 1ms/step - loss: 0.3621 - accuracy: 0.8517 - val_loss: 0.3462 - val_accuracy: 0.8535\n",
            "Epoch 24/100\n",
            "536/536 [==============================] - 1s 1ms/step - loss: 0.3605 - accuracy: 0.8541 - val_loss: 0.3442 - val_accuracy: 0.8557\n",
            "Epoch 25/100\n",
            "536/536 [==============================] - 1s 1ms/step - loss: 0.3596 - accuracy: 0.8502 - val_loss: 0.3412 - val_accuracy: 0.8561\n",
            "Epoch 26/100\n",
            "536/536 [==============================] - 1s 1ms/step - loss: 0.3590 - accuracy: 0.8530 - val_loss: 0.3450 - val_accuracy: 0.8550\n",
            "Epoch 27/100\n",
            "536/536 [==============================] - 1s 1ms/step - loss: 0.3545 - accuracy: 0.8563 - val_loss: 0.3436 - val_accuracy: 0.8554\n",
            "Epoch 28/100\n",
            "536/536 [==============================] - 1s 1ms/step - loss: 0.3540 - accuracy: 0.8556 - val_loss: 0.3450 - val_accuracy: 0.8561\n",
            "Epoch 29/100\n",
            "536/536 [==============================] - 1s 1ms/step - loss: 0.3503 - accuracy: 0.8558 - val_loss: 0.3428 - val_accuracy: 0.8550\n",
            "Epoch 30/100\n",
            "536/536 [==============================] - 1s 1ms/step - loss: 0.3483 - accuracy: 0.8593 - val_loss: 0.3418 - val_accuracy: 0.8554\n",
            "Epoch 31/100\n",
            "536/536 [==============================] - 1s 1ms/step - loss: 0.3559 - accuracy: 0.8567 - val_loss: 0.3458 - val_accuracy: 0.8561\n",
            "Epoch 32/100\n",
            "536/536 [==============================] - 1s 1ms/step - loss: 0.3456 - accuracy: 0.8636 - val_loss: 0.3432 - val_accuracy: 0.8538\n",
            "Epoch 33/100\n",
            "536/536 [==============================] - 1s 1ms/step - loss: 0.3490 - accuracy: 0.8623 - val_loss: 0.3430 - val_accuracy: 0.8554\n",
            "Epoch 34/100\n",
            "536/536 [==============================] - 1s 1ms/step - loss: 0.3487 - accuracy: 0.8615 - val_loss: 0.3459 - val_accuracy: 0.8546\n",
            "Epoch 35/100\n",
            "536/536 [==============================] - 1s 1ms/step - loss: 0.3542 - accuracy: 0.8561 - val_loss: 0.3431 - val_accuracy: 0.8542\n",
            "Epoch 36/100\n",
            "536/536 [==============================] - 1s 1ms/step - loss: 0.3429 - accuracy: 0.8604 - val_loss: 0.3419 - val_accuracy: 0.8550\n",
            "Epoch 37/100\n",
            "536/536 [==============================] - 1s 1ms/step - loss: 0.3477 - accuracy: 0.8619 - val_loss: 0.3457 - val_accuracy: 0.8550\n",
            "Epoch 38/100\n",
            "536/536 [==============================] - 1s 1ms/step - loss: 0.3445 - accuracy: 0.8580 - val_loss: 0.3419 - val_accuracy: 0.8565\n",
            "Epoch 39/100\n",
            "536/536 [==============================] - 1s 1ms/step - loss: 0.3452 - accuracy: 0.8619 - val_loss: 0.3405 - val_accuracy: 0.8565\n",
            "Epoch 40/100\n",
            "536/536 [==============================] - 1s 1ms/step - loss: 0.3450 - accuracy: 0.8610 - val_loss: 0.3440 - val_accuracy: 0.8554\n",
            "Epoch 41/100\n",
            "536/536 [==============================] - 1s 1ms/step - loss: 0.3464 - accuracy: 0.8627 - val_loss: 0.3443 - val_accuracy: 0.8557\n",
            "Epoch 42/100\n",
            "536/536 [==============================] - 1s 1ms/step - loss: 0.3390 - accuracy: 0.8628 - val_loss: 0.3448 - val_accuracy: 0.8557\n",
            "Epoch 43/100\n",
            "536/536 [==============================] - 1s 1ms/step - loss: 0.3389 - accuracy: 0.8656 - val_loss: 0.3440 - val_accuracy: 0.8580\n",
            "Epoch 44/100\n",
            "536/536 [==============================] - 1s 1ms/step - loss: 0.3419 - accuracy: 0.8625 - val_loss: 0.3450 - val_accuracy: 0.8573\n",
            "Epoch 45/100\n",
            "536/536 [==============================] - 1s 1ms/step - loss: 0.3485 - accuracy: 0.8615 - val_loss: 0.3426 - val_accuracy: 0.8584\n",
            "Epoch 46/100\n",
            "536/536 [==============================] - 1s 1ms/step - loss: 0.3313 - accuracy: 0.8655 - val_loss: 0.3442 - val_accuracy: 0.8542\n",
            "Epoch 47/100\n",
            "536/536 [==============================] - 1s 1ms/step - loss: 0.3423 - accuracy: 0.8630 - val_loss: 0.3424 - val_accuracy: 0.8584\n",
            "Epoch 48/100\n",
            "536/536 [==============================] - 1s 1ms/step - loss: 0.3415 - accuracy: 0.8608 - val_loss: 0.3433 - val_accuracy: 0.8546\n",
            "Epoch 49/100\n",
            "536/536 [==============================] - 1s 1ms/step - loss: 0.3448 - accuracy: 0.8602 - val_loss: 0.3458 - val_accuracy: 0.8527\n",
            "Epoch 50/100\n",
            "536/536 [==============================] - 1s 1ms/step - loss: 0.3406 - accuracy: 0.8649 - val_loss: 0.3434 - val_accuracy: 0.8535\n",
            "Epoch 51/100\n",
            "536/536 [==============================] - 1s 1ms/step - loss: 0.3394 - accuracy: 0.8647 - val_loss: 0.3471 - val_accuracy: 0.8531\n",
            "Epoch 52/100\n",
            "536/536 [==============================] - 1s 1ms/step - loss: 0.3401 - accuracy: 0.8621 - val_loss: 0.3467 - val_accuracy: 0.8535\n",
            "Epoch 53/100\n",
            "536/536 [==============================] - 1s 1ms/step - loss: 0.3414 - accuracy: 0.8617 - val_loss: 0.3415 - val_accuracy: 0.8550\n",
            "Epoch 54/100\n",
            "536/536 [==============================] - 1s 1ms/step - loss: 0.3366 - accuracy: 0.8645 - val_loss: 0.3463 - val_accuracy: 0.8550\n",
            "Epoch 55/100\n",
            "536/536 [==============================] - 1s 1ms/step - loss: 0.3379 - accuracy: 0.8643 - val_loss: 0.3429 - val_accuracy: 0.8569\n",
            "Epoch 56/100\n",
            "536/536 [==============================] - 1s 1ms/step - loss: 0.3348 - accuracy: 0.8645 - val_loss: 0.3433 - val_accuracy: 0.8554\n",
            "Epoch 57/100\n",
            "536/536 [==============================] - 1s 1ms/step - loss: 0.3341 - accuracy: 0.8649 - val_loss: 0.3427 - val_accuracy: 0.8565\n",
            "Epoch 58/100\n",
            "536/536 [==============================] - 1s 1ms/step - loss: 0.3387 - accuracy: 0.8638 - val_loss: 0.3426 - val_accuracy: 0.8535\n",
            "Epoch 59/100\n",
            "536/536 [==============================] - 1s 1ms/step - loss: 0.3355 - accuracy: 0.8645 - val_loss: 0.3423 - val_accuracy: 0.8546\n",
            "Epoch 60/100\n",
            "536/536 [==============================] - 1s 1ms/step - loss: 0.3414 - accuracy: 0.8619 - val_loss: 0.3478 - val_accuracy: 0.8542\n",
            "Epoch 61/100\n",
            "536/536 [==============================] - 1s 1ms/step - loss: 0.3360 - accuracy: 0.8649 - val_loss: 0.3435 - val_accuracy: 0.8546\n",
            "Epoch 62/100\n",
            "536/536 [==============================] - 1s 1ms/step - loss: 0.3379 - accuracy: 0.8627 - val_loss: 0.3441 - val_accuracy: 0.8554\n",
            "Epoch 63/100\n",
            "536/536 [==============================] - 1s 1ms/step - loss: 0.3349 - accuracy: 0.8621 - val_loss: 0.3448 - val_accuracy: 0.8569\n",
            "Epoch 64/100\n",
            "536/536 [==============================] - 1s 1ms/step - loss: 0.3358 - accuracy: 0.8660 - val_loss: 0.3452 - val_accuracy: 0.8542\n",
            "Epoch 65/100\n",
            "536/536 [==============================] - 1s 1ms/step - loss: 0.3345 - accuracy: 0.8645 - val_loss: 0.3451 - val_accuracy: 0.8531\n",
            "Epoch 66/100\n",
            "536/536 [==============================] - 1s 1ms/step - loss: 0.3332 - accuracy: 0.8642 - val_loss: 0.3444 - val_accuracy: 0.8523\n",
            "Epoch 67/100\n",
            "536/536 [==============================] - 1s 1ms/step - loss: 0.3312 - accuracy: 0.8668 - val_loss: 0.3457 - val_accuracy: 0.8550\n",
            "Epoch 68/100\n",
            "536/536 [==============================] - 1s 1ms/step - loss: 0.3322 - accuracy: 0.8666 - val_loss: 0.3431 - val_accuracy: 0.8561\n",
            "Epoch 69/100\n",
            "536/536 [==============================] - 1s 1ms/step - loss: 0.3313 - accuracy: 0.8671 - val_loss: 0.3438 - val_accuracy: 0.8554\n",
            "Epoch 70/100\n",
            "536/536 [==============================] - 1s 1ms/step - loss: 0.3302 - accuracy: 0.8699 - val_loss: 0.3436 - val_accuracy: 0.8565\n",
            "Epoch 71/100\n",
            "536/536 [==============================] - 1s 1ms/step - loss: 0.3322 - accuracy: 0.8675 - val_loss: 0.3443 - val_accuracy: 0.8550\n",
            "Epoch 72/100\n",
            "536/536 [==============================] - 1s 1ms/step - loss: 0.3363 - accuracy: 0.8655 - val_loss: 0.3457 - val_accuracy: 0.8527\n",
            "Epoch 73/100\n",
            "536/536 [==============================] - 1s 1ms/step - loss: 0.3323 - accuracy: 0.8666 - val_loss: 0.3478 - val_accuracy: 0.8538\n",
            "Epoch 74/100\n",
            "536/536 [==============================] - 1s 1ms/step - loss: 0.3318 - accuracy: 0.8638 - val_loss: 0.3464 - val_accuracy: 0.8561\n",
            "Epoch 75/100\n",
            "536/536 [==============================] - 1s 1ms/step - loss: 0.3349 - accuracy: 0.8632 - val_loss: 0.3441 - val_accuracy: 0.8565\n",
            "Epoch 76/100\n",
            "536/536 [==============================] - 1s 1ms/step - loss: 0.3296 - accuracy: 0.8647 - val_loss: 0.3488 - val_accuracy: 0.8565\n",
            "Epoch 77/100\n",
            "536/536 [==============================] - 1s 1ms/step - loss: 0.3363 - accuracy: 0.8627 - val_loss: 0.3437 - val_accuracy: 0.8550\n",
            "Epoch 78/100\n",
            "536/536 [==============================] - 1s 1ms/step - loss: 0.3274 - accuracy: 0.8692 - val_loss: 0.3510 - val_accuracy: 0.8542\n",
            "Epoch 79/100\n",
            "536/536 [==============================] - 1s 1ms/step - loss: 0.3260 - accuracy: 0.8656 - val_loss: 0.3460 - val_accuracy: 0.8542\n",
            "Epoch 80/100\n",
            "536/536 [==============================] - 1s 1ms/step - loss: 0.3304 - accuracy: 0.8638 - val_loss: 0.3437 - val_accuracy: 0.8557\n",
            "Epoch 81/100\n",
            "536/536 [==============================] - 1s 1ms/step - loss: 0.3336 - accuracy: 0.8690 - val_loss: 0.3480 - val_accuracy: 0.8519\n",
            "Epoch 82/100\n",
            "536/536 [==============================] - 1s 1ms/step - loss: 0.3278 - accuracy: 0.8698 - val_loss: 0.3477 - val_accuracy: 0.8554\n",
            "Epoch 83/100\n",
            "536/536 [==============================] - 1s 1ms/step - loss: 0.3267 - accuracy: 0.8683 - val_loss: 0.3455 - val_accuracy: 0.8535\n",
            "Epoch 84/100\n",
            "536/536 [==============================] - 1s 1ms/step - loss: 0.3281 - accuracy: 0.8688 - val_loss: 0.3461 - val_accuracy: 0.8554\n",
            "Epoch 85/100\n",
            "536/536 [==============================] - 1s 1ms/step - loss: 0.3336 - accuracy: 0.8638 - val_loss: 0.3457 - val_accuracy: 0.8527\n",
            "Epoch 86/100\n",
            "536/536 [==============================] - 1s 1ms/step - loss: 0.3276 - accuracy: 0.8683 - val_loss: 0.3464 - val_accuracy: 0.8538\n",
            "Epoch 87/100\n",
            "536/536 [==============================] - 1s 1ms/step - loss: 0.3321 - accuracy: 0.8684 - val_loss: 0.3454 - val_accuracy: 0.8535\n",
            "Epoch 88/100\n",
            "536/536 [==============================] - 1s 1ms/step - loss: 0.3327 - accuracy: 0.8656 - val_loss: 0.3462 - val_accuracy: 0.8550\n",
            "Epoch 89/100\n",
            "536/536 [==============================] - 1s 1ms/step - loss: 0.3302 - accuracy: 0.8670 - val_loss: 0.3454 - val_accuracy: 0.8519\n",
            "Epoch 90/100\n",
            "536/536 [==============================] - 1s 1ms/step - loss: 0.3311 - accuracy: 0.8653 - val_loss: 0.3444 - val_accuracy: 0.8550\n",
            "Epoch 91/100\n",
            "536/536 [==============================] - 1s 1ms/step - loss: 0.3252 - accuracy: 0.8660 - val_loss: 0.3468 - val_accuracy: 0.8531\n",
            "Epoch 92/100\n",
            "536/536 [==============================] - 1s 1ms/step - loss: 0.3266 - accuracy: 0.8653 - val_loss: 0.3441 - val_accuracy: 0.8535\n",
            "Epoch 93/100\n",
            "536/536 [==============================] - 1s 1ms/step - loss: 0.3254 - accuracy: 0.8699 - val_loss: 0.3518 - val_accuracy: 0.8516\n",
            "Epoch 94/100\n",
            "536/536 [==============================] - 1s 1ms/step - loss: 0.3284 - accuracy: 0.8690 - val_loss: 0.3472 - val_accuracy: 0.8519\n",
            "Epoch 95/100\n",
            "536/536 [==============================] - 1s 1ms/step - loss: 0.3256 - accuracy: 0.8696 - val_loss: 0.3465 - val_accuracy: 0.8535\n",
            "Epoch 96/100\n",
            "536/536 [==============================] - 1s 1ms/step - loss: 0.3302 - accuracy: 0.8664 - val_loss: 0.3459 - val_accuracy: 0.8546\n",
            "Epoch 97/100\n",
            "536/536 [==============================] - 1s 1ms/step - loss: 0.3284 - accuracy: 0.8675 - val_loss: 0.3471 - val_accuracy: 0.8546\n",
            "Epoch 98/100\n",
            "536/536 [==============================] - 1s 1ms/step - loss: 0.3239 - accuracy: 0.8709 - val_loss: 0.3469 - val_accuracy: 0.8535\n",
            "Epoch 99/100\n",
            "536/536 [==============================] - 1s 1ms/step - loss: 0.3307 - accuracy: 0.8670 - val_loss: 0.3460 - val_accuracy: 0.8542\n",
            "Epoch 100/100\n",
            "536/536 [==============================] - 1s 1ms/step - loss: 0.3266 - accuracy: 0.8670 - val_loss: 0.3449 - val_accuracy: 0.8546\n"
          ],
          "name": "stdout"
        }
      ]
    },
    {
      "cell_type": "code",
      "metadata": {
        "id": "m5MdoaagN_Jo",
        "colab_type": "code",
        "colab": {}
      },
      "source": [
        "y_pred=classifier.predict(X_test)"
      ],
      "execution_count": 95,
      "outputs": []
    },
    {
      "cell_type": "code",
      "metadata": {
        "id": "dk3adcaPO790",
        "colab_type": "code",
        "colab": {}
      },
      "source": [
        "y_pred=(y_pred>=0.5)"
      ],
      "execution_count": 96,
      "outputs": []
    },
    {
      "cell_type": "code",
      "metadata": {
        "id": "AaoqgfgWO94i",
        "colab_type": "code",
        "colab": {
          "base_uri": "https://localhost:8080/",
          "height": 52
        },
        "outputId": "5fede5b5-2d16-494a-9d47-1beefc283447"
      },
      "source": [
        "confusion_matrix(y_test,y_pred)"
      ],
      "execution_count": 97,
      "outputs": [
        {
          "output_type": "execute_result",
          "data": {
            "text/plain": [
              "array([[1552,   33],\n",
              "       [ 258,  157]])"
            ]
          },
          "metadata": {
            "tags": []
          },
          "execution_count": 97
        }
      ]
    },
    {
      "cell_type": "code",
      "metadata": {
        "id": "A2xOsLs3PAhH",
        "colab_type": "code",
        "colab": {
          "base_uri": "https://localhost:8080/",
          "height": 34
        },
        "outputId": "24ae540c-fe0a-4886-cad4-24313a96e2b4"
      },
      "source": [
        "accuracy_score(y_test,y_pred)"
      ],
      "execution_count": 98,
      "outputs": [
        {
          "output_type": "execute_result",
          "data": {
            "text/plain": [
              "0.8545"
            ]
          },
          "metadata": {
            "tags": []
          },
          "execution_count": 98
        }
      ]
    },
    {
      "cell_type": "code",
      "metadata": {
        "id": "opU0rnHsPDRF",
        "colab_type": "code",
        "colab": {}
      },
      "source": [
        ""
      ],
      "execution_count": null,
      "outputs": []
    }
  ]
}