{
  "nbformat": 4,
  "nbformat_minor": 0,
  "metadata": {
    "colab": {
      "name": "Churn Modeling with ANN.ipynb",
      "provenance": [],
      "authorship_tag": "ABX9TyOopUEgmOXKKRrqRjAB4KaK",
      "include_colab_link": true
    },
    "kernelspec": {
      "name": "python3",
      "display_name": "Python 3"
    }
  },
  "cells": [
    {
      "cell_type": "markdown",
      "metadata": {
        "id": "view-in-github",
        "colab_type": "text"
      },
      "source": [
        "<a href=\"https://colab.research.google.com/github/ajaykumar6666/Churn-Modeling-with-ANN/blob/master/Churn_Modeling_with_ANN.ipynb\" target=\"_parent\"><img src=\"https://colab.research.google.com/assets/colab-badge.svg\" alt=\"Open In Colab\"/></a>"
      ]
    },
    {
      "cell_type": "code",
      "metadata": {
        "id": "4dcD2GzreDr-",
        "colab_type": "code",
        "colab": {}
      },
      "source": [
        "import keras"
      ],
      "execution_count": 1,
      "outputs": []
    },
    {
      "cell_type": "code",
      "metadata": {
        "id": "p6bgfMpzuZNy",
        "colab_type": "code",
        "colab": {}
      },
      "source": [
        "import tensorflow as tf\n",
        "import pandas as pd\n",
        "import numpy as np\n",
        "import matplotlib.pyplot as plt"
      ],
      "execution_count": 2,
      "outputs": []
    },
    {
      "cell_type": "code",
      "metadata": {
        "id": "Va4_1Zr4ucHz",
        "colab_type": "code",
        "colab": {}
      },
      "source": [
        "df=pd.read_csv('/content/datasets_13214_17927_Churn_Modelling.csv')"
      ],
      "execution_count": 3,
      "outputs": []
    },
    {
      "cell_type": "code",
      "metadata": {
        "id": "LjtKVkOTupXs",
        "colab_type": "code",
        "colab": {
          "base_uri": "https://localhost:8080/",
          "height": 70
        },
        "outputId": "ddc63f6c-723d-4cfa-d505-1955c1cfb824"
      },
      "source": [
        "df['Exited'].value_counts()"
      ],
      "execution_count": 4,
      "outputs": [
        {
          "output_type": "execute_result",
          "data": {
            "text/plain": [
              "0    7963\n",
              "1    2037\n",
              "Name: Exited, dtype: int64"
            ]
          },
          "metadata": {
            "tags": []
          },
          "execution_count": 4
        }
      ]
    },
    {
      "cell_type": "code",
      "metadata": {
        "id": "FWXQyO1FupoM",
        "colab_type": "code",
        "colab": {}
      },
      "source": [
        "geography=pd.get_dummies(df['Geography'],drop_first=True)\n",
        "gender=pd.get_dummies(df['Gender'],drop_first=True)"
      ],
      "execution_count": 5,
      "outputs": []
    },
    {
      "cell_type": "code",
      "metadata": {
        "id": "kOsr3C_yvipm",
        "colab_type": "code",
        "colab": {
          "base_uri": "https://localhost:8080/",
          "height": 402
        },
        "outputId": "d6f28c97-7796-4feb-e76d-d38821ddfb07"
      },
      "source": [
        "gender"
      ],
      "execution_count": 14,
      "outputs": [
        {
          "output_type": "execute_result",
          "data": {
            "text/html": [
              "<div>\n",
              "<style scoped>\n",
              "    .dataframe tbody tr th:only-of-type {\n",
              "        vertical-align: middle;\n",
              "    }\n",
              "\n",
              "    .dataframe tbody tr th {\n",
              "        vertical-align: top;\n",
              "    }\n",
              "\n",
              "    .dataframe thead th {\n",
              "        text-align: right;\n",
              "    }\n",
              "</style>\n",
              "<table border=\"1\" class=\"dataframe\">\n",
              "  <thead>\n",
              "    <tr style=\"text-align: right;\">\n",
              "      <th></th>\n",
              "      <th>Male</th>\n",
              "    </tr>\n",
              "  </thead>\n",
              "  <tbody>\n",
              "    <tr>\n",
              "      <th>0</th>\n",
              "      <td>0</td>\n",
              "    </tr>\n",
              "    <tr>\n",
              "      <th>1</th>\n",
              "      <td>0</td>\n",
              "    </tr>\n",
              "    <tr>\n",
              "      <th>2</th>\n",
              "      <td>0</td>\n",
              "    </tr>\n",
              "    <tr>\n",
              "      <th>3</th>\n",
              "      <td>0</td>\n",
              "    </tr>\n",
              "    <tr>\n",
              "      <th>4</th>\n",
              "      <td>0</td>\n",
              "    </tr>\n",
              "    <tr>\n",
              "      <th>...</th>\n",
              "      <td>...</td>\n",
              "    </tr>\n",
              "    <tr>\n",
              "      <th>9995</th>\n",
              "      <td>1</td>\n",
              "    </tr>\n",
              "    <tr>\n",
              "      <th>9996</th>\n",
              "      <td>1</td>\n",
              "    </tr>\n",
              "    <tr>\n",
              "      <th>9997</th>\n",
              "      <td>0</td>\n",
              "    </tr>\n",
              "    <tr>\n",
              "      <th>9998</th>\n",
              "      <td>1</td>\n",
              "    </tr>\n",
              "    <tr>\n",
              "      <th>9999</th>\n",
              "      <td>0</td>\n",
              "    </tr>\n",
              "  </tbody>\n",
              "</table>\n",
              "<p>10000 rows × 1 columns</p>\n",
              "</div>"
            ],
            "text/plain": [
              "      Male\n",
              "0        0\n",
              "1        0\n",
              "2        0\n",
              "3        0\n",
              "4        0\n",
              "...    ...\n",
              "9995     1\n",
              "9996     1\n",
              "9997     0\n",
              "9998     1\n",
              "9999     0\n",
              "\n",
              "[10000 rows x 1 columns]"
            ]
          },
          "metadata": {
            "tags": []
          },
          "execution_count": 14
        }
      ]
    },
    {
      "cell_type": "code",
      "metadata": {
        "id": "tAQnY_CNv0sd",
        "colab_type": "code",
        "colab": {}
      },
      "source": [
        "df.drop(columns=['Geography','Gender','Surname'],inplace=True)"
      ],
      "execution_count": 6,
      "outputs": []
    },
    {
      "cell_type": "code",
      "metadata": {
        "id": "-OCzgy0zwEsJ",
        "colab_type": "code",
        "colab": {}
      },
      "source": [
        "df=pd.concat([df,geography,gender],axis=1)"
      ],
      "execution_count": 7,
      "outputs": []
    },
    {
      "cell_type": "code",
      "metadata": {
        "id": "JK7Mi74LwLWk",
        "colab_type": "code",
        "colab": {}
      },
      "source": [
        "from sklearn.model_selection import train_test_split"
      ],
      "execution_count": 8,
      "outputs": []
    },
    {
      "cell_type": "code",
      "metadata": {
        "id": "MVtfTrMPwXzT",
        "colab_type": "code",
        "colab": {
          "base_uri": "https://localhost:8080/",
          "height": 87
        },
        "outputId": "6e473209-10d1-44c6-87ab-c34191332a80"
      },
      "source": [
        "df.columns"
      ],
      "execution_count": 9,
      "outputs": [
        {
          "output_type": "execute_result",
          "data": {
            "text/plain": [
              "Index(['RowNumber', 'CustomerId', 'CreditScore', 'Age', 'Tenure', 'Balance',\n",
              "       'NumOfProducts', 'HasCrCard', 'IsActiveMember', 'EstimatedSalary',\n",
              "       'Exited', 'Germany', 'Spain', 'Male'],\n",
              "      dtype='object')"
            ]
          },
          "metadata": {
            "tags": []
          },
          "execution_count": 9
        }
      ]
    },
    {
      "cell_type": "code",
      "metadata": {
        "id": "y2abbW2nwZ8P",
        "colab_type": "code",
        "colab": {}
      },
      "source": [
        "y=df['Exited']"
      ],
      "execution_count": 10,
      "outputs": []
    },
    {
      "cell_type": "code",
      "metadata": {
        "id": "-8XUDbXBwh0i",
        "colab_type": "code",
        "colab": {}
      },
      "source": [
        "X=df.drop(columns='Exited')"
      ],
      "execution_count": 11,
      "outputs": []
    },
    {
      "cell_type": "code",
      "metadata": {
        "id": "LXbLDH1swo9v",
        "colab_type": "code",
        "colab": {
          "base_uri": "https://localhost:8080/",
          "height": 34
        },
        "outputId": "d24d3dbd-5812-4dd9-e75f-e1e79bde6185"
      },
      "source": [
        "X.shape,y.shape"
      ],
      "execution_count": 12,
      "outputs": [
        {
          "output_type": "execute_result",
          "data": {
            "text/plain": [
              "((10000, 13), (10000,))"
            ]
          },
          "metadata": {
            "tags": []
          },
          "execution_count": 12
        }
      ]
    },
    {
      "cell_type": "code",
      "metadata": {
        "id": "7L0EQStWx6Jc",
        "colab_type": "code",
        "colab": {}
      },
      "source": [
        ""
      ],
      "execution_count": 12,
      "outputs": []
    },
    {
      "cell_type": "code",
      "metadata": {
        "id": "NgzUJJNuwpoI",
        "colab_type": "code",
        "colab": {}
      },
      "source": [
        "X_train,X_test,y_train,y_test=train_test_split(X,y,test_size=0.2,random_state=1)"
      ],
      "execution_count": 13,
      "outputs": []
    },
    {
      "cell_type": "code",
      "metadata": {
        "id": "b8uKZiMjw0De",
        "colab_type": "code",
        "colab": {
          "base_uri": "https://localhost:8080/",
          "height": 492
        },
        "outputId": "0c0a7713-4f71-4b78-c767-ceadff79e8b5"
      },
      "source": [
        "X_train.mean(),X_test.mean(),y_train.mean(),y_test.mean()"
      ],
      "execution_count": 31,
      "outputs": [
        {
          "output_type": "execute_result",
          "data": {
            "text/plain": [
              "(RowNumber          5.018444e+03\n",
              " CustomerId         1.569121e+07\n",
              " CreditScore        6.503136e+02\n",
              " Age                3.888725e+01\n",
              " Tenure             5.025000e+00\n",
              " Balance            7.646344e+04\n",
              " NumOfProducts      1.531875e+00\n",
              " HasCrCard          7.070000e-01\n",
              " IsActiveMember     5.115000e-01\n",
              " EstimatedSalary    1.001434e+05\n",
              " Germany            2.537500e-01\n",
              " Spain              2.470000e-01\n",
              " Male               5.442500e-01\n",
              " dtype: float64, RowNumber          4.928726e+03\n",
              " CustomerId         1.568985e+07\n",
              " CreditScore        6.513895e+02\n",
              " Age                3.906000e+01\n",
              " Tenure             4.964000e+00\n",
              " Balance            7.657567e+04\n",
              " NumOfProducts      1.523500e+00\n",
              " HasCrCard          6.995000e-01\n",
              " IsActiveMember     5.295000e-01\n",
              " EstimatedSalary    9.987748e+04\n",
              " Germany            2.395000e-01\n",
              " Spain              2.505000e-01\n",
              " Male               5.515000e-01\n",
              " dtype: float64, 0.20275, 0.2075)"
            ]
          },
          "metadata": {
            "tags": []
          },
          "execution_count": 31
        }
      ]
    },
    {
      "cell_type": "code",
      "metadata": {
        "id": "yEquO5q-w471",
        "colab_type": "code",
        "colab": {}
      },
      "source": [
        "from sklearn.preprocessing import StandardScaler"
      ],
      "execution_count": 14,
      "outputs": []
    },
    {
      "cell_type": "code",
      "metadata": {
        "id": "y3F_dAODxQEz",
        "colab_type": "code",
        "colab": {}
      },
      "source": [
        "sc=StandardScaler()"
      ],
      "execution_count": 15,
      "outputs": []
    },
    {
      "cell_type": "code",
      "metadata": {
        "id": "XzyminLlxRGz",
        "colab_type": "code",
        "colab": {}
      },
      "source": [
        "X_train=sc.fit_transform(X_train)\n",
        "X_test=sc.fit_transform(X_test)"
      ],
      "execution_count": 16,
      "outputs": []
    },
    {
      "cell_type": "code",
      "metadata": {
        "id": "bAkI_gVHxtfI",
        "colab_type": "code",
        "colab": {
          "base_uri": "https://localhost:8080/",
          "height": 246
        },
        "outputId": "1bc852e6-5017-4c79-90e5-a1070f50ddad"
      },
      "source": [
        "X_train"
      ],
      "execution_count": 17,
      "outputs": [
        {
          "output_type": "execute_result",
          "data": {
            "text/plain": [
              "array([[-0.80531942,  0.42399976, -0.23082038, ...,  1.71490137,\n",
              "        -0.57273139,  0.91509065],\n",
              "       [ 0.04247882, -1.02496943, -0.25150912, ..., -0.58312392,\n",
              "        -0.57273139, -1.09278791],\n",
              "       [-0.84899177,  1.18230224, -0.3963303 , ...,  1.71490137,\n",
              "        -0.57273139, -1.09278791],\n",
              "       ...,\n",
              "       [-1.42539753, -0.21286544,  0.22433188, ..., -0.58312392,\n",
              "        -0.57273139, -1.09278791],\n",
              "       [ 0.06050233, -1.16325633,  0.13123255, ..., -0.58312392,\n",
              "        -0.57273139, -1.09278791],\n",
              "       [-1.65762353,  1.14029686,  1.1656695 , ...,  1.71490137,\n",
              "        -0.57273139,  0.91509065]])"
            ]
          },
          "metadata": {
            "tags": []
          },
          "execution_count": 17
        }
      ]
    },
    {
      "cell_type": "code",
      "metadata": {
        "id": "ygXHJeeuxwoZ",
        "colab_type": "code",
        "colab": {}
      },
      "source": [
        "from keras.models import Sequential\n",
        "from keras.layers import Dense,Dropout,LeakyReLU,PReLU,ELU"
      ],
      "execution_count": 18,
      "outputs": []
    },
    {
      "cell_type": "code",
      "metadata": {
        "id": "PyNYaoNKyjMs",
        "colab_type": "code",
        "colab": {}
      },
      "source": [
        "classifier=Sequential()"
      ],
      "execution_count": 19,
      "outputs": []
    },
    {
      "cell_type": "code",
      "metadata": {
        "id": "Zhe5IJIAymO8",
        "colab_type": "code",
        "colab": {
          "base_uri": "https://localhost:8080/",
          "height": 34
        },
        "outputId": "b8755589-87ca-42b6-96da-29906285b5f1"
      },
      "source": [
        "X_train.shape"
      ],
      "execution_count": 20,
      "outputs": [
        {
          "output_type": "execute_result",
          "data": {
            "text/plain": [
              "(8000, 13)"
            ]
          },
          "metadata": {
            "tags": []
          },
          "execution_count": 20
        }
      ]
    },
    {
      "cell_type": "code",
      "metadata": {
        "id": "7olu0WH7ysRV",
        "colab_type": "code",
        "colab": {}
      },
      "source": [
        "classifier.add(Dense(input_dim=13,kernel_initializer='he_uniform',units=7,activation='relu'))\n",
        "classifier.add(Dense(kernel_initializer='he_uniform',units=7,activation='relu'))\n",
        "classifier.add(Dense(kernel_initializer='glorot_uniform',units=1,activation='sigmoid'))"
      ],
      "execution_count": 26,
      "outputs": []
    },
    {
      "cell_type": "code",
      "metadata": {
        "id": "boj4kS762G0P",
        "colab_type": "code",
        "colab": {}
      },
      "source": [
        "classifier.compile(optimizer='adam',loss='binary_crossentropy',metrics=['accuracy'])"
      ],
      "execution_count": 27,
      "outputs": []
    },
    {
      "cell_type": "code",
      "metadata": {
        "id": "lwMJGjnp2gSf",
        "colab_type": "code",
        "colab": {
          "base_uri": "https://localhost:8080/",
          "height": 1000
        },
        "outputId": "d79bca04-cb67-406c-cd98-9c025a34fef9"
      },
      "source": [
        "model_history=classifier.fit(X_train,y_train,batch_size=10,epochs=100,validation_split=0.33)"
      ],
      "execution_count": 29,
      "outputs": [
        {
          "output_type": "stream",
          "text": [
            "Epoch 1/100\n",
            "536/536 [==============================] - 1s 1ms/step - loss: 0.3442 - accuracy: 0.8597 - val_loss: 0.3544 - val_accuracy: 0.8519\n",
            "Epoch 2/100\n",
            "536/536 [==============================] - 1s 1ms/step - loss: 0.3442 - accuracy: 0.8612 - val_loss: 0.3539 - val_accuracy: 0.8519\n",
            "Epoch 3/100\n",
            "536/536 [==============================] - 1s 1ms/step - loss: 0.3442 - accuracy: 0.8623 - val_loss: 0.3561 - val_accuracy: 0.8516\n",
            "Epoch 4/100\n",
            "536/536 [==============================] - 1s 1ms/step - loss: 0.3437 - accuracy: 0.8615 - val_loss: 0.3567 - val_accuracy: 0.8504\n",
            "Epoch 5/100\n",
            "536/536 [==============================] - 1s 1ms/step - loss: 0.3434 - accuracy: 0.8615 - val_loss: 0.3584 - val_accuracy: 0.8519\n",
            "Epoch 6/100\n",
            "536/536 [==============================] - 1s 1ms/step - loss: 0.3443 - accuracy: 0.8612 - val_loss: 0.3554 - val_accuracy: 0.8535\n",
            "Epoch 7/100\n",
            "536/536 [==============================] - 1s 1ms/step - loss: 0.3426 - accuracy: 0.8623 - val_loss: 0.3536 - val_accuracy: 0.8527\n",
            "Epoch 8/100\n",
            "536/536 [==============================] - 1s 1ms/step - loss: 0.3436 - accuracy: 0.8623 - val_loss: 0.3533 - val_accuracy: 0.8519\n",
            "Epoch 9/100\n",
            "536/536 [==============================] - 1s 1ms/step - loss: 0.3423 - accuracy: 0.8636 - val_loss: 0.3535 - val_accuracy: 0.8542\n",
            "Epoch 10/100\n",
            "536/536 [==============================] - 1s 1ms/step - loss: 0.3436 - accuracy: 0.8621 - val_loss: 0.3525 - val_accuracy: 0.8535\n",
            "Epoch 11/100\n",
            "536/536 [==============================] - 1s 1ms/step - loss: 0.3424 - accuracy: 0.8623 - val_loss: 0.3555 - val_accuracy: 0.8542\n",
            "Epoch 12/100\n",
            "536/536 [==============================] - 1s 1ms/step - loss: 0.3419 - accuracy: 0.8619 - val_loss: 0.3570 - val_accuracy: 0.8519\n",
            "Epoch 13/100\n",
            "536/536 [==============================] - 1s 1ms/step - loss: 0.3433 - accuracy: 0.8623 - val_loss: 0.3538 - val_accuracy: 0.8538\n",
            "Epoch 14/100\n",
            "536/536 [==============================] - 1s 1ms/step - loss: 0.3415 - accuracy: 0.8642 - val_loss: 0.3521 - val_accuracy: 0.8508\n",
            "Epoch 15/100\n",
            "536/536 [==============================] - 1s 1ms/step - loss: 0.3421 - accuracy: 0.8595 - val_loss: 0.3551 - val_accuracy: 0.8504\n",
            "Epoch 16/100\n",
            "536/536 [==============================] - 1s 1ms/step - loss: 0.3416 - accuracy: 0.8619 - val_loss: 0.3540 - val_accuracy: 0.8523\n",
            "Epoch 17/100\n",
            "536/536 [==============================] - 1s 1ms/step - loss: 0.3413 - accuracy: 0.8642 - val_loss: 0.3549 - val_accuracy: 0.8538\n",
            "Epoch 18/100\n",
            "536/536 [==============================] - 1s 1ms/step - loss: 0.3416 - accuracy: 0.8630 - val_loss: 0.3528 - val_accuracy: 0.8519\n",
            "Epoch 19/100\n",
            "536/536 [==============================] - 1s 1ms/step - loss: 0.3415 - accuracy: 0.8621 - val_loss: 0.3548 - val_accuracy: 0.8489\n",
            "Epoch 20/100\n",
            "536/536 [==============================] - 1s 1ms/step - loss: 0.3405 - accuracy: 0.8632 - val_loss: 0.3563 - val_accuracy: 0.8504\n",
            "Epoch 21/100\n",
            "536/536 [==============================] - 1s 1ms/step - loss: 0.3410 - accuracy: 0.8638 - val_loss: 0.3549 - val_accuracy: 0.8493\n",
            "Epoch 22/100\n",
            "536/536 [==============================] - 1s 1ms/step - loss: 0.3404 - accuracy: 0.8625 - val_loss: 0.3516 - val_accuracy: 0.8561\n",
            "Epoch 23/100\n",
            "536/536 [==============================] - 1s 1ms/step - loss: 0.3419 - accuracy: 0.8615 - val_loss: 0.3540 - val_accuracy: 0.8512\n",
            "Epoch 24/100\n",
            "536/536 [==============================] - 1s 1ms/step - loss: 0.3398 - accuracy: 0.8638 - val_loss: 0.3537 - val_accuracy: 0.8527\n",
            "Epoch 25/100\n",
            "536/536 [==============================] - 1s 1ms/step - loss: 0.3398 - accuracy: 0.8649 - val_loss: 0.3552 - val_accuracy: 0.8527\n",
            "Epoch 26/100\n",
            "536/536 [==============================] - 1s 1ms/step - loss: 0.3397 - accuracy: 0.8643 - val_loss: 0.3527 - val_accuracy: 0.8546\n",
            "Epoch 27/100\n",
            "536/536 [==============================] - 1s 1ms/step - loss: 0.3397 - accuracy: 0.8645 - val_loss: 0.3526 - val_accuracy: 0.8523\n",
            "Epoch 28/100\n",
            "536/536 [==============================] - 1s 1ms/step - loss: 0.3409 - accuracy: 0.8617 - val_loss: 0.3547 - val_accuracy: 0.8508\n",
            "Epoch 29/100\n",
            "536/536 [==============================] - 1s 1ms/step - loss: 0.3394 - accuracy: 0.8623 - val_loss: 0.3551 - val_accuracy: 0.8519\n",
            "Epoch 30/100\n",
            "536/536 [==============================] - 1s 1ms/step - loss: 0.3405 - accuracy: 0.8634 - val_loss: 0.3519 - val_accuracy: 0.8550\n",
            "Epoch 31/100\n",
            "536/536 [==============================] - 1s 1ms/step - loss: 0.3386 - accuracy: 0.8642 - val_loss: 0.3547 - val_accuracy: 0.8523\n",
            "Epoch 32/100\n",
            "536/536 [==============================] - 1s 1ms/step - loss: 0.3390 - accuracy: 0.8651 - val_loss: 0.3551 - val_accuracy: 0.8501\n",
            "Epoch 33/100\n",
            "536/536 [==============================] - 1s 1ms/step - loss: 0.3392 - accuracy: 0.8651 - val_loss: 0.3545 - val_accuracy: 0.8508\n",
            "Epoch 34/100\n",
            "536/536 [==============================] - 1s 1ms/step - loss: 0.3393 - accuracy: 0.8645 - val_loss: 0.3525 - val_accuracy: 0.8519\n",
            "Epoch 35/100\n",
            "536/536 [==============================] - 1s 1ms/step - loss: 0.3387 - accuracy: 0.8625 - val_loss: 0.3506 - val_accuracy: 0.8542\n",
            "Epoch 36/100\n",
            "536/536 [==============================] - 1s 1ms/step - loss: 0.3391 - accuracy: 0.8640 - val_loss: 0.3500 - val_accuracy: 0.8519\n",
            "Epoch 37/100\n",
            "536/536 [==============================] - 1s 1ms/step - loss: 0.3382 - accuracy: 0.8634 - val_loss: 0.3512 - val_accuracy: 0.8557\n",
            "Epoch 38/100\n",
            "536/536 [==============================] - 1s 1ms/step - loss: 0.3385 - accuracy: 0.8642 - val_loss: 0.3530 - val_accuracy: 0.8535\n",
            "Epoch 39/100\n",
            "536/536 [==============================] - 1s 1ms/step - loss: 0.3378 - accuracy: 0.8658 - val_loss: 0.3528 - val_accuracy: 0.8489\n",
            "Epoch 40/100\n",
            "536/536 [==============================] - 1s 1ms/step - loss: 0.3384 - accuracy: 0.8623 - val_loss: 0.3509 - val_accuracy: 0.8527\n",
            "Epoch 41/100\n",
            "536/536 [==============================] - 1s 1ms/step - loss: 0.3384 - accuracy: 0.8640 - val_loss: 0.3510 - val_accuracy: 0.8538\n",
            "Epoch 42/100\n",
            "536/536 [==============================] - 1s 1ms/step - loss: 0.3372 - accuracy: 0.8645 - val_loss: 0.3549 - val_accuracy: 0.8516\n",
            "Epoch 43/100\n",
            "536/536 [==============================] - 1s 1ms/step - loss: 0.3376 - accuracy: 0.8658 - val_loss: 0.3490 - val_accuracy: 0.8504\n",
            "Epoch 44/100\n",
            "536/536 [==============================] - 1s 1ms/step - loss: 0.3379 - accuracy: 0.8638 - val_loss: 0.3511 - val_accuracy: 0.8569\n",
            "Epoch 45/100\n",
            "536/536 [==============================] - 1s 1ms/step - loss: 0.3378 - accuracy: 0.8634 - val_loss: 0.3499 - val_accuracy: 0.8542\n",
            "Epoch 46/100\n",
            "536/536 [==============================] - 1s 1ms/step - loss: 0.3377 - accuracy: 0.8647 - val_loss: 0.3520 - val_accuracy: 0.8516\n",
            "Epoch 47/100\n",
            "536/536 [==============================] - 1s 1ms/step - loss: 0.3375 - accuracy: 0.8634 - val_loss: 0.3504 - val_accuracy: 0.8538\n",
            "Epoch 48/100\n",
            "536/536 [==============================] - 1s 1ms/step - loss: 0.3371 - accuracy: 0.8649 - val_loss: 0.3506 - val_accuracy: 0.8546\n",
            "Epoch 49/100\n",
            "536/536 [==============================] - 1s 1ms/step - loss: 0.3371 - accuracy: 0.8638 - val_loss: 0.3546 - val_accuracy: 0.8512\n",
            "Epoch 50/100\n",
            "536/536 [==============================] - 1s 1ms/step - loss: 0.3366 - accuracy: 0.8643 - val_loss: 0.3517 - val_accuracy: 0.8535\n",
            "Epoch 51/100\n",
            "536/536 [==============================] - 1s 1ms/step - loss: 0.3381 - accuracy: 0.8621 - val_loss: 0.3522 - val_accuracy: 0.8508\n",
            "Epoch 52/100\n",
            "536/536 [==============================] - 1s 1ms/step - loss: 0.3370 - accuracy: 0.8666 - val_loss: 0.3493 - val_accuracy: 0.8546\n",
            "Epoch 53/100\n",
            "536/536 [==============================] - 1s 1ms/step - loss: 0.3362 - accuracy: 0.8673 - val_loss: 0.3528 - val_accuracy: 0.8519\n",
            "Epoch 54/100\n",
            "536/536 [==============================] - 1s 1ms/step - loss: 0.3367 - accuracy: 0.8653 - val_loss: 0.3484 - val_accuracy: 0.8527\n",
            "Epoch 55/100\n",
            "536/536 [==============================] - 1s 1ms/step - loss: 0.3355 - accuracy: 0.8640 - val_loss: 0.3548 - val_accuracy: 0.8538\n",
            "Epoch 56/100\n",
            "536/536 [==============================] - 1s 1ms/step - loss: 0.3372 - accuracy: 0.8656 - val_loss: 0.3506 - val_accuracy: 0.8527\n",
            "Epoch 57/100\n",
            "536/536 [==============================] - 1s 1ms/step - loss: 0.3369 - accuracy: 0.8662 - val_loss: 0.3485 - val_accuracy: 0.8527\n",
            "Epoch 58/100\n",
            "536/536 [==============================] - 1s 1ms/step - loss: 0.3364 - accuracy: 0.8670 - val_loss: 0.3506 - val_accuracy: 0.8531\n",
            "Epoch 59/100\n",
            "536/536 [==============================] - 1s 1ms/step - loss: 0.3358 - accuracy: 0.8666 - val_loss: 0.3490 - val_accuracy: 0.8516\n",
            "Epoch 60/100\n",
            "536/536 [==============================] - 1s 1ms/step - loss: 0.3352 - accuracy: 0.8664 - val_loss: 0.3517 - val_accuracy: 0.8546\n",
            "Epoch 61/100\n",
            "536/536 [==============================] - 1s 1ms/step - loss: 0.3355 - accuracy: 0.8656 - val_loss: 0.3545 - val_accuracy: 0.8516\n",
            "Epoch 62/100\n",
            "536/536 [==============================] - 1s 1ms/step - loss: 0.3362 - accuracy: 0.8623 - val_loss: 0.3500 - val_accuracy: 0.8550\n",
            "Epoch 63/100\n",
            "536/536 [==============================] - 1s 1ms/step - loss: 0.3358 - accuracy: 0.8664 - val_loss: 0.3506 - val_accuracy: 0.8557\n",
            "Epoch 64/100\n",
            "536/536 [==============================] - 1s 1ms/step - loss: 0.3352 - accuracy: 0.8653 - val_loss: 0.3532 - val_accuracy: 0.8516\n",
            "Epoch 65/100\n",
            "536/536 [==============================] - 1s 1ms/step - loss: 0.3365 - accuracy: 0.8662 - val_loss: 0.3494 - val_accuracy: 0.8546\n",
            "Epoch 66/100\n",
            "536/536 [==============================] - 1s 1ms/step - loss: 0.3352 - accuracy: 0.8660 - val_loss: 0.3504 - val_accuracy: 0.8523\n",
            "Epoch 67/100\n",
            "536/536 [==============================] - 1s 1ms/step - loss: 0.3346 - accuracy: 0.8668 - val_loss: 0.3539 - val_accuracy: 0.8527\n",
            "Epoch 68/100\n",
            "536/536 [==============================] - 1s 1ms/step - loss: 0.3351 - accuracy: 0.8647 - val_loss: 0.3500 - val_accuracy: 0.8516\n",
            "Epoch 69/100\n",
            "536/536 [==============================] - 1s 1ms/step - loss: 0.3350 - accuracy: 0.8668 - val_loss: 0.3506 - val_accuracy: 0.8538\n",
            "Epoch 70/100\n",
            "536/536 [==============================] - 1s 1ms/step - loss: 0.3345 - accuracy: 0.8653 - val_loss: 0.3517 - val_accuracy: 0.8550\n",
            "Epoch 71/100\n",
            "536/536 [==============================] - 1s 1ms/step - loss: 0.3351 - accuracy: 0.8636 - val_loss: 0.3560 - val_accuracy: 0.8516\n",
            "Epoch 72/100\n",
            "536/536 [==============================] - 1s 1ms/step - loss: 0.3335 - accuracy: 0.8673 - val_loss: 0.3527 - val_accuracy: 0.8531\n",
            "Epoch 73/100\n",
            "536/536 [==============================] - 1s 1ms/step - loss: 0.3356 - accuracy: 0.8642 - val_loss: 0.3530 - val_accuracy: 0.8519\n",
            "Epoch 74/100\n",
            "536/536 [==============================] - 1s 1ms/step - loss: 0.3346 - accuracy: 0.8683 - val_loss: 0.3498 - val_accuracy: 0.8523\n",
            "Epoch 75/100\n",
            "536/536 [==============================] - 1s 1ms/step - loss: 0.3330 - accuracy: 0.8677 - val_loss: 0.3538 - val_accuracy: 0.8508\n",
            "Epoch 76/100\n",
            "536/536 [==============================] - 1s 1ms/step - loss: 0.3325 - accuracy: 0.8664 - val_loss: 0.3494 - val_accuracy: 0.8531\n",
            "Epoch 77/100\n",
            "536/536 [==============================] - 1s 1ms/step - loss: 0.3341 - accuracy: 0.8642 - val_loss: 0.3544 - val_accuracy: 0.8531\n",
            "Epoch 78/100\n",
            "536/536 [==============================] - 1s 1ms/step - loss: 0.3332 - accuracy: 0.8642 - val_loss: 0.3524 - val_accuracy: 0.8542\n",
            "Epoch 79/100\n",
            "536/536 [==============================] - 1s 1ms/step - loss: 0.3330 - accuracy: 0.8653 - val_loss: 0.3586 - val_accuracy: 0.8489\n",
            "Epoch 80/100\n",
            "536/536 [==============================] - 1s 1ms/step - loss: 0.3336 - accuracy: 0.8662 - val_loss: 0.3509 - val_accuracy: 0.8523\n",
            "Epoch 81/100\n",
            "536/536 [==============================] - 1s 1ms/step - loss: 0.3332 - accuracy: 0.8668 - val_loss: 0.3516 - val_accuracy: 0.8523\n",
            "Epoch 82/100\n",
            "536/536 [==============================] - 1s 1ms/step - loss: 0.3332 - accuracy: 0.8658 - val_loss: 0.3497 - val_accuracy: 0.8557\n",
            "Epoch 83/100\n",
            "536/536 [==============================] - 1s 1ms/step - loss: 0.3333 - accuracy: 0.8653 - val_loss: 0.3514 - val_accuracy: 0.8565\n",
            "Epoch 84/100\n",
            "536/536 [==============================] - 1s 1ms/step - loss: 0.3337 - accuracy: 0.8673 - val_loss: 0.3509 - val_accuracy: 0.8554\n",
            "Epoch 85/100\n",
            "536/536 [==============================] - 1s 1ms/step - loss: 0.3321 - accuracy: 0.8655 - val_loss: 0.3509 - val_accuracy: 0.8538\n",
            "Epoch 86/100\n",
            "536/536 [==============================] - 1s 1ms/step - loss: 0.3318 - accuracy: 0.8662 - val_loss: 0.3550 - val_accuracy: 0.8538\n",
            "Epoch 87/100\n",
            "536/536 [==============================] - 1s 1ms/step - loss: 0.3330 - accuracy: 0.8642 - val_loss: 0.3516 - val_accuracy: 0.8538\n",
            "Epoch 88/100\n",
            "536/536 [==============================] - 1s 1ms/step - loss: 0.3325 - accuracy: 0.8664 - val_loss: 0.3516 - val_accuracy: 0.8538\n",
            "Epoch 89/100\n",
            "536/536 [==============================] - 1s 1ms/step - loss: 0.3324 - accuracy: 0.8647 - val_loss: 0.3511 - val_accuracy: 0.8538\n",
            "Epoch 90/100\n",
            "536/536 [==============================] - 1s 1ms/step - loss: 0.3336 - accuracy: 0.8655 - val_loss: 0.3526 - val_accuracy: 0.8557\n",
            "Epoch 91/100\n",
            "536/536 [==============================] - 1s 1ms/step - loss: 0.3329 - accuracy: 0.8677 - val_loss: 0.3499 - val_accuracy: 0.8561\n",
            "Epoch 92/100\n",
            "536/536 [==============================] - 1s 1ms/step - loss: 0.3340 - accuracy: 0.8666 - val_loss: 0.3515 - val_accuracy: 0.8542\n",
            "Epoch 93/100\n",
            "536/536 [==============================] - 1s 1ms/step - loss: 0.3335 - accuracy: 0.8679 - val_loss: 0.3527 - val_accuracy: 0.8561\n",
            "Epoch 94/100\n",
            "536/536 [==============================] - 1s 1ms/step - loss: 0.3327 - accuracy: 0.8645 - val_loss: 0.3528 - val_accuracy: 0.8546\n",
            "Epoch 95/100\n",
            "536/536 [==============================] - 1s 1ms/step - loss: 0.3322 - accuracy: 0.8649 - val_loss: 0.3537 - val_accuracy: 0.8523\n",
            "Epoch 96/100\n",
            "536/536 [==============================] - 1s 1ms/step - loss: 0.3318 - accuracy: 0.8662 - val_loss: 0.3514 - val_accuracy: 0.8557\n",
            "Epoch 97/100\n",
            "536/536 [==============================] - 1s 1ms/step - loss: 0.3304 - accuracy: 0.8675 - val_loss: 0.3541 - val_accuracy: 0.8550\n",
            "Epoch 98/100\n",
            "536/536 [==============================] - 1s 1ms/step - loss: 0.3311 - accuracy: 0.8670 - val_loss: 0.3511 - val_accuracy: 0.8554\n",
            "Epoch 99/100\n",
            "536/536 [==============================] - 1s 1ms/step - loss: 0.3328 - accuracy: 0.8660 - val_loss: 0.3516 - val_accuracy: 0.8538\n",
            "Epoch 100/100\n",
            "536/536 [==============================] - 1s 1ms/step - loss: 0.3320 - accuracy: 0.8666 - val_loss: 0.3499 - val_accuracy: 0.8550\n"
          ],
          "name": "stdout"
        }
      ]
    },
    {
      "cell_type": "code",
      "metadata": {
        "id": "3-d6XUCa5Mq-",
        "colab_type": "code",
        "colab": {
          "base_uri": "https://localhost:8080/",
          "height": 34
        },
        "outputId": "ae0ad13b-52f3-43c1-8955-4b2fdbb4e09f"
      },
      "source": [
        "model_history.history.keys()"
      ],
      "execution_count": 30,
      "outputs": [
        {
          "output_type": "execute_result",
          "data": {
            "text/plain": [
              "dict_keys(['loss', 'accuracy', 'val_loss', 'val_accuracy'])"
            ]
          },
          "metadata": {
            "tags": []
          },
          "execution_count": 30
        }
      ]
    },
    {
      "cell_type": "code",
      "metadata": {
        "id": "mJmjd3aR7Jsc",
        "colab_type": "code",
        "colab": {}
      },
      "source": [
        "normal_accuracy=model_history.history['accuracy']\n",
        "val_accuracy=model_history.history['val_accuracy']"
      ],
      "execution_count": 34,
      "outputs": []
    },
    {
      "cell_type": "code",
      "metadata": {
        "id": "PdmrUXw775jo",
        "colab_type": "code",
        "colab": {
          "base_uri": "https://localhost:8080/",
          "height": 282
        },
        "outputId": "9f577d72-9abc-45c4-d2bf-c4492ce9b18a"
      },
      "source": [
        "plt.plot(normal_accuracy,'*-',val_accuracy,'o-')\n",
        "plt.legend(['Train','Valid'])"
      ],
      "execution_count": 42,
      "outputs": [
        {
          "output_type": "execute_result",
          "data": {
            "text/plain": [
              "<matplotlib.legend.Legend at 0x7f4a656d9eb8>"
            ]
          },
          "metadata": {
            "tags": []
          },
          "execution_count": 42
        },
        {
          "output_type": "display_data",
          "data": {
            "image/png": "[encoded data removed]",
            "text/plain": [
              "<Figure size 432x288 with 1 Axes>"
            ]
          },
          "metadata": {
            "tags": [],
            "needs_background": "light"
          }
        }
      ]
    },
    {
      "cell_type": "code",
      "metadata": {
        "id": "kP-GZtPF8Hu2",
        "colab_type": "code",
        "colab": {}
      },
      "source": [
        "y_pred=classifier.predict(X_test)\n",
        "y_pred=(y_pred>=0.5)"
      ],
      "execution_count": 44,
      "outputs": []
    },
    {
      "cell_type": "code",
      "metadata": {
        "id": "TCs3QeWw8pbI",
        "colab_type": "code",
        "colab": {}
      },
      "source": [
        "from sklearn.metrics import confusion_matrix,accuracy_score"
      ],
      "execution_count": 45,
      "outputs": []
    },
    {
      "cell_type": "code",
      "metadata": {
        "id": "Qxs4gaay853m",
        "colab_type": "code",
        "colab": {
          "base_uri": "https://localhost:8080/",
          "height": 52
        },
        "outputId": "e56de9c3-df52-4a88-933f-b242b9003d17"
      },
      "source": [
        "confusion_matrix(y_test,y_pred)"
      ],
      "execution_count": 46,
      "outputs": [
        {
          "output_type": "execute_result",
          "data": {
            "text/plain": [
              "array([[1505,   80],\n",
              "       [ 222,  193]])"
            ]
          },
          "metadata": {
            "tags": []
          },
          "execution_count": 46
        }
      ]
    },
    {
      "cell_type": "code",
      "metadata": {
        "id": "6-kR1B2889Pm",
        "colab_type": "code",
        "colab": {
          "base_uri": "https://localhost:8080/",
          "height": 34
        },
        "outputId": "72c96d8e-925a-4c88-d6a5-b702ba0ca7e1"
      },
      "source": [
        "accuracy_score(y_pred,y_test)"
      ],
      "execution_count": 47,
      "outputs": [
        {
          "output_type": "execute_result",
          "data": {
            "text/plain": [
              "0.849"
            ]
          },
          "metadata": {
            "tags": []
          },
          "execution_count": 47
        }
      ]
    },
    {
      "cell_type": "code",
      "metadata": {
        "id": "Q9Fiw8Pw9BAX",
        "colab_type": "code",
        "colab": {}
      },
      "source": [
        ""
      ],
      "execution_count": null,
      "outputs": []
    }
  ]
}